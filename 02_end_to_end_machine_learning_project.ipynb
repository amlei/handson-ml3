{
  "cells": [
    {
      "cell_type": "markdown",
      "metadata": {
        "id": "view-in-github",
        "colab_type": "text"
      },
      "source": [
        "<a href=\"https://colab.research.google.com/github/amlei/handson-ml3/blob/main/02_end_to_end_machine_learning_project.ipynb\" target=\"_parent\"><img src=\"https://colab.research.google.com/assets/colab-badge.svg\" alt=\"Open In Colab\"/></a>"
      ]
    },
    {
      "cell_type": "markdown",
      "metadata": {
        "id": "C0Q9spgqUjq_"
      },
      "source": [
        "**Chapter 2 – End-to-end Machine Learning project**"
      ]
    },
    {
      "cell_type": "markdown",
      "metadata": {
        "id": "jE9uTQ67UjrG"
      },
      "source": [
        "*This notebook contains all the sample code and solutions to the exercises in chapter 2.*"
      ]
    },
    {
      "cell_type": "markdown",
      "metadata": {
        "id": "klAOw9T8UjrH"
      },
      "source": [
        "<table align=\"left\">\n",
        "  <td>\n",
        "    <a href=\"https://colab.research.google.com/github/ageron/handson-ml3/blob/main/02_end_to_end_machine_learning_project.ipynb\" target=\"_parent\"><img src=\"https://colab.research.google.com/assets/colab-badge.svg\" alt=\"Open In Colab\"/></a>\n",
        "  </td>\n",
        "  <td>\n",
        "    <a target=\"_blank\" href=\"https://kaggle.com/kernels/welcome?src=https://github.com/ageron/handson-ml3/blob/main/02_end_to_end_machine_learning_project.ipynb\"><img src=\"https://kaggle.com/static/images/open-in-kaggle.svg\" /></a>\n",
        "  </td>\n",
        "</table>"
      ]
    },
    {
      "cell_type": "code",
      "execution_count": 52,
      "metadata": {
        "id": "uHRQMB18UjrI",
        "outputId": "b93a1674-045e-43c8-c025-3bbd9c475bcc",
        "colab": {
          "base_uri": "https://localhost:8080/"
        }
      },
      "outputs": [
        {
          "output_type": "stream",
          "name": "stdout",
          "text": [
            "Welcome to Machine Learning!\n"
          ]
        }
      ],
      "source": [
        "print(\"Welcome to Machine Learning!\")"
      ]
    },
    {
      "cell_type": "markdown",
      "metadata": {
        "id": "BQynh5l9UjrL"
      },
      "source": [
        "This project requires Python 3.7 or above:"
      ]
    },
    {
      "cell_type": "code",
      "execution_count": 53,
      "metadata": {
        "id": "_SHkA2shUjrM"
      },
      "outputs": [],
      "source": [
        "import sys\n",
        "\n",
        "assert sys.version_info >= (3, 7)"
      ]
    },
    {
      "cell_type": "markdown",
      "metadata": {
        "id": "cjhHzJ_TUjrN"
      },
      "source": [
        "It also requires Scikit-Learn ≥ 1.0.1:"
      ]
    },
    {
      "cell_type": "code",
      "execution_count": 54,
      "metadata": {
        "id": "xGhKY4W9UjrO"
      },
      "outputs": [],
      "source": [
        "from packaging import version\n",
        "import sklearn\n",
        "\n",
        "assert version.parse(sklearn.__version__) >= version.parse(\"1.0.1\")"
      ]
    },
    {
      "cell_type": "markdown",
      "metadata": {
        "id": "YBrwjBVxUjrP"
      },
      "source": [
        "# Get the Data"
      ]
    },
    {
      "cell_type": "markdown",
      "metadata": {
        "id": "l30e0qiJUjrP"
      },
      "source": [
        "*Welcome to Machine Learning Housing Corp.! Your task is to predict median house values in Californian districts, given a number of features from these districts.*"
      ]
    },
    {
      "cell_type": "markdown",
      "metadata": {
        "id": "7Usx07-2UjrQ"
      },
      "source": [
        "## Download the Data"
      ]
    },
    {
      "cell_type": "code",
      "source": [
        "from pathlib import Path\n",
        "import pandas as pd\n",
        "import tarfile\n",
        "import urllib.request\n",
        "\n",
        "def load_housing_data() -> pd.DataFrame:\n",
        "  tarball_path = Path(\"datasets/housing.tgz\")\n",
        "  if not tarball_path.is_file():\n",
        "    Path(\"datasets\").mkdir(parents=True, exist_ok=True)\n",
        "    url = \"https://github.com/ageron/data/raw/main/housing.tgz\"\n",
        "    urllib.request.urlretrieve(url, tarball_path)\n",
        "  with tarfile.open(tarball_path) as housing_tarball:\n",
        "    housing_tarball.extractall(path=\"datasets\")\n",
        "  return pd.read_csv(Path(\"datasets/housing/housing.csv\"))\n",
        "\n",
        "housing = load_housing_data()\n"
      ],
      "metadata": {
        "id": "HAGWkqZjVorj"
      },
      "execution_count": 55,
      "outputs": []
    },
    {
      "cell_type": "markdown",
      "metadata": {
        "id": "xmfKxSG-UjrR"
      },
      "source": [
        "## Take a Quick Look at the Data Structure"
      ]
    },
    {
      "cell_type": "code",
      "source": [
        "housing.head()"
      ],
      "metadata": {
        "colab": {
          "base_uri": "https://localhost:8080/",
          "height": 226
        },
        "id": "vCgOea4nXHHc",
        "outputId": "d360fa41-b59c-443c-b029-e99c3c4ceee2"
      },
      "execution_count": 56,
      "outputs": [
        {
          "output_type": "execute_result",
          "data": {
            "text/plain": [
              "   longitude  latitude  housing_median_age  total_rooms  total_bedrooms  \\\n",
              "0    -122.23     37.88                41.0        880.0           129.0   \n",
              "1    -122.22     37.86                21.0       7099.0          1106.0   \n",
              "2    -122.24     37.85                52.0       1467.0           190.0   \n",
              "3    -122.25     37.85                52.0       1274.0           235.0   \n",
              "4    -122.25     37.85                52.0       1627.0           280.0   \n",
              "\n",
              "   population  households  median_income  median_house_value ocean_proximity  \n",
              "0       322.0       126.0         8.3252            452600.0        NEAR BAY  \n",
              "1      2401.0      1138.0         8.3014            358500.0        NEAR BAY  \n",
              "2       496.0       177.0         7.2574            352100.0        NEAR BAY  \n",
              "3       558.0       219.0         5.6431            341300.0        NEAR BAY  \n",
              "4       565.0       259.0         3.8462            342200.0        NEAR BAY  "
            ],
            "text/html": [
              "\n",
              "  <div id=\"df-6dc1d727-c49a-40d0-b18b-6a3a7f30ef63\" class=\"colab-df-container\">\n",
              "    <div>\n",
              "<style scoped>\n",
              "    .dataframe tbody tr th:only-of-type {\n",
              "        vertical-align: middle;\n",
              "    }\n",
              "\n",
              "    .dataframe tbody tr th {\n",
              "        vertical-align: top;\n",
              "    }\n",
              "\n",
              "    .dataframe thead th {\n",
              "        text-align: right;\n",
              "    }\n",
              "</style>\n",
              "<table border=\"1\" class=\"dataframe\">\n",
              "  <thead>\n",
              "    <tr style=\"text-align: right;\">\n",
              "      <th></th>\n",
              "      <th>longitude</th>\n",
              "      <th>latitude</th>\n",
              "      <th>housing_median_age</th>\n",
              "      <th>total_rooms</th>\n",
              "      <th>total_bedrooms</th>\n",
              "      <th>population</th>\n",
              "      <th>households</th>\n",
              "      <th>median_income</th>\n",
              "      <th>median_house_value</th>\n",
              "      <th>ocean_proximity</th>\n",
              "    </tr>\n",
              "  </thead>\n",
              "  <tbody>\n",
              "    <tr>\n",
              "      <th>0</th>\n",
              "      <td>-122.23</td>\n",
              "      <td>37.88</td>\n",
              "      <td>41.0</td>\n",
              "      <td>880.0</td>\n",
              "      <td>129.0</td>\n",
              "      <td>322.0</td>\n",
              "      <td>126.0</td>\n",
              "      <td>8.3252</td>\n",
              "      <td>452600.0</td>\n",
              "      <td>NEAR BAY</td>\n",
              "    </tr>\n",
              "    <tr>\n",
              "      <th>1</th>\n",
              "      <td>-122.22</td>\n",
              "      <td>37.86</td>\n",
              "      <td>21.0</td>\n",
              "      <td>7099.0</td>\n",
              "      <td>1106.0</td>\n",
              "      <td>2401.0</td>\n",
              "      <td>1138.0</td>\n",
              "      <td>8.3014</td>\n",
              "      <td>358500.0</td>\n",
              "      <td>NEAR BAY</td>\n",
              "    </tr>\n",
              "    <tr>\n",
              "      <th>2</th>\n",
              "      <td>-122.24</td>\n",
              "      <td>37.85</td>\n",
              "      <td>52.0</td>\n",
              "      <td>1467.0</td>\n",
              "      <td>190.0</td>\n",
              "      <td>496.0</td>\n",
              "      <td>177.0</td>\n",
              "      <td>7.2574</td>\n",
              "      <td>352100.0</td>\n",
              "      <td>NEAR BAY</td>\n",
              "    </tr>\n",
              "    <tr>\n",
              "      <th>3</th>\n",
              "      <td>-122.25</td>\n",
              "      <td>37.85</td>\n",
              "      <td>52.0</td>\n",
              "      <td>1274.0</td>\n",
              "      <td>235.0</td>\n",
              "      <td>558.0</td>\n",
              "      <td>219.0</td>\n",
              "      <td>5.6431</td>\n",
              "      <td>341300.0</td>\n",
              "      <td>NEAR BAY</td>\n",
              "    </tr>\n",
              "    <tr>\n",
              "      <th>4</th>\n",
              "      <td>-122.25</td>\n",
              "      <td>37.85</td>\n",
              "      <td>52.0</td>\n",
              "      <td>1627.0</td>\n",
              "      <td>280.0</td>\n",
              "      <td>565.0</td>\n",
              "      <td>259.0</td>\n",
              "      <td>3.8462</td>\n",
              "      <td>342200.0</td>\n",
              "      <td>NEAR BAY</td>\n",
              "    </tr>\n",
              "  </tbody>\n",
              "</table>\n",
              "</div>\n",
              "    <div class=\"colab-df-buttons\">\n",
              "\n",
              "  <div class=\"colab-df-container\">\n",
              "    <button class=\"colab-df-convert\" onclick=\"convertToInteractive('df-6dc1d727-c49a-40d0-b18b-6a3a7f30ef63')\"\n",
              "            title=\"Convert this dataframe to an interactive table.\"\n",
              "            style=\"display:none;\">\n",
              "\n",
              "  <svg xmlns=\"http://www.w3.org/2000/svg\" height=\"24px\" viewBox=\"0 -960 960 960\">\n",
              "    <path d=\"M120-120v-720h720v720H120Zm60-500h600v-160H180v160Zm220 220h160v-160H400v160Zm0 220h160v-160H400v160ZM180-400h160v-160H180v160Zm440 0h160v-160H620v160ZM180-180h160v-160H180v160Zm440 0h160v-160H620v160Z\"/>\n",
              "  </svg>\n",
              "    </button>\n",
              "\n",
              "  <style>\n",
              "    .colab-df-container {\n",
              "      display:flex;\n",
              "      gap: 12px;\n",
              "    }\n",
              "\n",
              "    .colab-df-convert {\n",
              "      background-color: #E8F0FE;\n",
              "      border: none;\n",
              "      border-radius: 50%;\n",
              "      cursor: pointer;\n",
              "      display: none;\n",
              "      fill: #1967D2;\n",
              "      height: 32px;\n",
              "      padding: 0 0 0 0;\n",
              "      width: 32px;\n",
              "    }\n",
              "\n",
              "    .colab-df-convert:hover {\n",
              "      background-color: #E2EBFA;\n",
              "      box-shadow: 0px 1px 2px rgba(60, 64, 67, 0.3), 0px 1px 3px 1px rgba(60, 64, 67, 0.15);\n",
              "      fill: #174EA6;\n",
              "    }\n",
              "\n",
              "    .colab-df-buttons div {\n",
              "      margin-bottom: 4px;\n",
              "    }\n",
              "\n",
              "    [theme=dark] .colab-df-convert {\n",
              "      background-color: #3B4455;\n",
              "      fill: #D2E3FC;\n",
              "    }\n",
              "\n",
              "    [theme=dark] .colab-df-convert:hover {\n",
              "      background-color: #434B5C;\n",
              "      box-shadow: 0px 1px 3px 1px rgba(0, 0, 0, 0.15);\n",
              "      filter: drop-shadow(0px 1px 2px rgba(0, 0, 0, 0.3));\n",
              "      fill: #FFFFFF;\n",
              "    }\n",
              "  </style>\n",
              "\n",
              "    <script>\n",
              "      const buttonEl =\n",
              "        document.querySelector('#df-6dc1d727-c49a-40d0-b18b-6a3a7f30ef63 button.colab-df-convert');\n",
              "      buttonEl.style.display =\n",
              "        google.colab.kernel.accessAllowed ? 'block' : 'none';\n",
              "\n",
              "      async function convertToInteractive(key) {\n",
              "        const element = document.querySelector('#df-6dc1d727-c49a-40d0-b18b-6a3a7f30ef63');\n",
              "        const dataTable =\n",
              "          await google.colab.kernel.invokeFunction('convertToInteractive',\n",
              "                                                    [key], {});\n",
              "        if (!dataTable) return;\n",
              "\n",
              "        const docLinkHtml = 'Like what you see? Visit the ' +\n",
              "          '<a target=\"_blank\" href=https://colab.research.google.com/notebooks/data_table.ipynb>data table notebook</a>'\n",
              "          + ' to learn more about interactive tables.';\n",
              "        element.innerHTML = '';\n",
              "        dataTable['output_type'] = 'display_data';\n",
              "        await google.colab.output.renderOutput(dataTable, element);\n",
              "        const docLink = document.createElement('div');\n",
              "        docLink.innerHTML = docLinkHtml;\n",
              "        element.appendChild(docLink);\n",
              "      }\n",
              "    </script>\n",
              "  </div>\n",
              "\n",
              "\n",
              "<div id=\"df-cf27bdc6-1394-48c6-ac48-027a5d327d69\">\n",
              "  <button class=\"colab-df-quickchart\" onclick=\"quickchart('df-cf27bdc6-1394-48c6-ac48-027a5d327d69')\"\n",
              "            title=\"Suggest charts\"\n",
              "            style=\"display:none;\">\n",
              "\n",
              "<svg xmlns=\"http://www.w3.org/2000/svg\" height=\"24px\"viewBox=\"0 0 24 24\"\n",
              "     width=\"24px\">\n",
              "    <g>\n",
              "        <path d=\"M19 3H5c-1.1 0-2 .9-2 2v14c0 1.1.9 2 2 2h14c1.1 0 2-.9 2-2V5c0-1.1-.9-2-2-2zM9 17H7v-7h2v7zm4 0h-2V7h2v10zm4 0h-2v-4h2v4z\"/>\n",
              "    </g>\n",
              "</svg>\n",
              "  </button>\n",
              "\n",
              "<style>\n",
              "  .colab-df-quickchart {\n",
              "      --bg-color: #E8F0FE;\n",
              "      --fill-color: #1967D2;\n",
              "      --hover-bg-color: #E2EBFA;\n",
              "      --hover-fill-color: #174EA6;\n",
              "      --disabled-fill-color: #AAA;\n",
              "      --disabled-bg-color: #DDD;\n",
              "  }\n",
              "\n",
              "  [theme=dark] .colab-df-quickchart {\n",
              "      --bg-color: #3B4455;\n",
              "      --fill-color: #D2E3FC;\n",
              "      --hover-bg-color: #434B5C;\n",
              "      --hover-fill-color: #FFFFFF;\n",
              "      --disabled-bg-color: #3B4455;\n",
              "      --disabled-fill-color: #666;\n",
              "  }\n",
              "\n",
              "  .colab-df-quickchart {\n",
              "    background-color: var(--bg-color);\n",
              "    border: none;\n",
              "    border-radius: 50%;\n",
              "    cursor: pointer;\n",
              "    display: none;\n",
              "    fill: var(--fill-color);\n",
              "    height: 32px;\n",
              "    padding: 0;\n",
              "    width: 32px;\n",
              "  }\n",
              "\n",
              "  .colab-df-quickchart:hover {\n",
              "    background-color: var(--hover-bg-color);\n",
              "    box-shadow: 0 1px 2px rgba(60, 64, 67, 0.3), 0 1px 3px 1px rgba(60, 64, 67, 0.15);\n",
              "    fill: var(--button-hover-fill-color);\n",
              "  }\n",
              "\n",
              "  .colab-df-quickchart-complete:disabled,\n",
              "  .colab-df-quickchart-complete:disabled:hover {\n",
              "    background-color: var(--disabled-bg-color);\n",
              "    fill: var(--disabled-fill-color);\n",
              "    box-shadow: none;\n",
              "  }\n",
              "\n",
              "  .colab-df-spinner {\n",
              "    border: 2px solid var(--fill-color);\n",
              "    border-color: transparent;\n",
              "    border-bottom-color: var(--fill-color);\n",
              "    animation:\n",
              "      spin 1s steps(1) infinite;\n",
              "  }\n",
              "\n",
              "  @keyframes spin {\n",
              "    0% {\n",
              "      border-color: transparent;\n",
              "      border-bottom-color: var(--fill-color);\n",
              "      border-left-color: var(--fill-color);\n",
              "    }\n",
              "    20% {\n",
              "      border-color: transparent;\n",
              "      border-left-color: var(--fill-color);\n",
              "      border-top-color: var(--fill-color);\n",
              "    }\n",
              "    30% {\n",
              "      border-color: transparent;\n",
              "      border-left-color: var(--fill-color);\n",
              "      border-top-color: var(--fill-color);\n",
              "      border-right-color: var(--fill-color);\n",
              "    }\n",
              "    40% {\n",
              "      border-color: transparent;\n",
              "      border-right-color: var(--fill-color);\n",
              "      border-top-color: var(--fill-color);\n",
              "    }\n",
              "    60% {\n",
              "      border-color: transparent;\n",
              "      border-right-color: var(--fill-color);\n",
              "    }\n",
              "    80% {\n",
              "      border-color: transparent;\n",
              "      border-right-color: var(--fill-color);\n",
              "      border-bottom-color: var(--fill-color);\n",
              "    }\n",
              "    90% {\n",
              "      border-color: transparent;\n",
              "      border-bottom-color: var(--fill-color);\n",
              "    }\n",
              "  }\n",
              "</style>\n",
              "\n",
              "  <script>\n",
              "    async function quickchart(key) {\n",
              "      const quickchartButtonEl =\n",
              "        document.querySelector('#' + key + ' button');\n",
              "      quickchartButtonEl.disabled = true;  // To prevent multiple clicks.\n",
              "      quickchartButtonEl.classList.add('colab-df-spinner');\n",
              "      try {\n",
              "        const charts = await google.colab.kernel.invokeFunction(\n",
              "            'suggestCharts', [key], {});\n",
              "      } catch (error) {\n",
              "        console.error('Error during call to suggestCharts:', error);\n",
              "      }\n",
              "      quickchartButtonEl.classList.remove('colab-df-spinner');\n",
              "      quickchartButtonEl.classList.add('colab-df-quickchart-complete');\n",
              "    }\n",
              "    (() => {\n",
              "      let quickchartButtonEl =\n",
              "        document.querySelector('#df-cf27bdc6-1394-48c6-ac48-027a5d327d69 button');\n",
              "      quickchartButtonEl.style.display =\n",
              "        google.colab.kernel.accessAllowed ? 'block' : 'none';\n",
              "    })();\n",
              "  </script>\n",
              "</div>\n",
              "\n",
              "    </div>\n",
              "  </div>\n"
            ],
            "application/vnd.google.colaboratory.intrinsic+json": {
              "type": "dataframe",
              "variable_name": "housing",
              "summary": "{\n  \"name\": \"housing\",\n  \"rows\": 20640,\n  \"fields\": [\n    {\n      \"column\": \"longitude\",\n      \"properties\": {\n        \"dtype\": \"number\",\n        \"std\": 2.0035317235025802,\n        \"min\": -124.35,\n        \"max\": -114.31,\n        \"num_unique_values\": 844,\n        \"samples\": [\n          -123.39,\n          -122.08,\n          -116.17\n        ],\n        \"semantic_type\": \"\",\n        \"description\": \"\"\n      }\n    },\n    {\n      \"column\": \"latitude\",\n      \"properties\": {\n        \"dtype\": \"number\",\n        \"std\": 2.135952397457107,\n        \"min\": 32.54,\n        \"max\": 41.95,\n        \"num_unique_values\": 862,\n        \"samples\": [\n          36.16,\n          36.28,\n          32.68\n        ],\n        \"semantic_type\": \"\",\n        \"description\": \"\"\n      }\n    },\n    {\n      \"column\": \"housing_median_age\",\n      \"properties\": {\n        \"dtype\": \"number\",\n        \"std\": 12.585557612111748,\n        \"min\": 1.0,\n        \"max\": 52.0,\n        \"num_unique_values\": 52,\n        \"samples\": [\n          35.0,\n          25.0,\n          3.0\n        ],\n        \"semantic_type\": \"\",\n        \"description\": \"\"\n      }\n    },\n    {\n      \"column\": \"total_rooms\",\n      \"properties\": {\n        \"dtype\": \"number\",\n        \"std\": 2181.6152515827785,\n        \"min\": 2.0,\n        \"max\": 39320.0,\n        \"num_unique_values\": 5926,\n        \"samples\": [\n          913.0,\n          1759.0,\n          6434.0\n        ],\n        \"semantic_type\": \"\",\n        \"description\": \"\"\n      }\n    },\n    {\n      \"column\": \"total_bedrooms\",\n      \"properties\": {\n        \"dtype\": \"number\",\n        \"std\": 421.38507007403194,\n        \"min\": 1.0,\n        \"max\": 6445.0,\n        \"num_unique_values\": 1923,\n        \"samples\": [\n          1296.0,\n          3493.0,\n          2035.0\n        ],\n        \"semantic_type\": \"\",\n        \"description\": \"\"\n      }\n    },\n    {\n      \"column\": \"population\",\n      \"properties\": {\n        \"dtype\": \"number\",\n        \"std\": 1132.4621217653341,\n        \"min\": 3.0,\n        \"max\": 35682.0,\n        \"num_unique_values\": 3888,\n        \"samples\": [\n          3622.0,\n          3232.0,\n          2291.0\n        ],\n        \"semantic_type\": \"\",\n        \"description\": \"\"\n      }\n    },\n    {\n      \"column\": \"households\",\n      \"properties\": {\n        \"dtype\": \"number\",\n        \"std\": 382.329752831612,\n        \"min\": 1.0,\n        \"max\": 6082.0,\n        \"num_unique_values\": 1815,\n        \"samples\": [\n          745.0,\n          1248.0,\n          1166.0\n        ],\n        \"semantic_type\": \"\",\n        \"description\": \"\"\n      }\n    },\n    {\n      \"column\": \"median_income\",\n      \"properties\": {\n        \"dtype\": \"number\",\n        \"std\": 1.8998217179452694,\n        \"min\": 0.4999,\n        \"max\": 15.0001,\n        \"num_unique_values\": 12928,\n        \"samples\": [\n          2.5211,\n          4.2454,\n          2.1681\n        ],\n        \"semantic_type\": \"\",\n        \"description\": \"\"\n      }\n    },\n    {\n      \"column\": \"median_house_value\",\n      \"properties\": {\n        \"dtype\": \"number\",\n        \"std\": 115395.61587441301,\n        \"min\": 14999.0,\n        \"max\": 500001.0,\n        \"num_unique_values\": 3842,\n        \"samples\": [\n          400700.0,\n          264900.0,\n          119100.0\n        ],\n        \"semantic_type\": \"\",\n        \"description\": \"\"\n      }\n    },\n    {\n      \"column\": \"ocean_proximity\",\n      \"properties\": {\n        \"dtype\": \"category\",\n        \"num_unique_values\": 5,\n        \"samples\": [\n          \"<1H OCEAN\",\n          \"ISLAND\",\n          \"INLAND\"\n        ],\n        \"semantic_type\": \"\",\n        \"description\": \"\"\n      }\n    }\n  ]\n}"
            }
          },
          "metadata": {},
          "execution_count": 56
        }
      ]
    },
    {
      "cell_type": "code",
      "execution_count": 57,
      "metadata": {
        "colab": {
          "base_uri": "https://localhost:8080/"
        },
        "id": "COqWN978UjrS",
        "outputId": "cda38787-7d10-4286-a80d-4c52080ae1b5"
      },
      "outputs": [
        {
          "output_type": "stream",
          "name": "stdout",
          "text": [
            "<class 'pandas.core.frame.DataFrame'>\n",
            "RangeIndex: 20640 entries, 0 to 20639\n",
            "Data columns (total 10 columns):\n",
            " #   Column              Non-Null Count  Dtype  \n",
            "---  ------              --------------  -----  \n",
            " 0   longitude           20640 non-null  float64\n",
            " 1   latitude            20640 non-null  float64\n",
            " 2   housing_median_age  20640 non-null  float64\n",
            " 3   total_rooms         20640 non-null  float64\n",
            " 4   total_bedrooms      20433 non-null  float64\n",
            " 5   population          20640 non-null  float64\n",
            " 6   households          20640 non-null  float64\n",
            " 7   median_income       20640 non-null  float64\n",
            " 8   median_house_value  20640 non-null  float64\n",
            " 9   ocean_proximity     20640 non-null  object \n",
            "dtypes: float64(9), object(1)\n",
            "memory usage: 1.6+ MB\n"
          ]
        }
      ],
      "source": [
        "housing.info()"
      ]
    },
    {
      "cell_type": "code",
      "source": [
        "housing[\"ocean_proximity\"].value_counts()"
      ],
      "metadata": {
        "colab": {
          "base_uri": "https://localhost:8080/",
          "height": 272
        },
        "id": "lVRylCdhYBTN",
        "outputId": "5fc79482-f7ce-401e-f9aa-ac27cd1a34b2"
      },
      "execution_count": 58,
      "outputs": [
        {
          "output_type": "execute_result",
          "data": {
            "text/plain": [
              "ocean_proximity\n",
              "<1H OCEAN     9136\n",
              "INLAND        6551\n",
              "NEAR OCEAN    2658\n",
              "NEAR BAY      2290\n",
              "ISLAND           5\n",
              "Name: count, dtype: int64"
            ],
            "text/html": [
              "<div>\n",
              "<style scoped>\n",
              "    .dataframe tbody tr th:only-of-type {\n",
              "        vertical-align: middle;\n",
              "    }\n",
              "\n",
              "    .dataframe tbody tr th {\n",
              "        vertical-align: top;\n",
              "    }\n",
              "\n",
              "    .dataframe thead th {\n",
              "        text-align: right;\n",
              "    }\n",
              "</style>\n",
              "<table border=\"1\" class=\"dataframe\">\n",
              "  <thead>\n",
              "    <tr style=\"text-align: right;\">\n",
              "      <th></th>\n",
              "      <th>count</th>\n",
              "    </tr>\n",
              "    <tr>\n",
              "      <th>ocean_proximity</th>\n",
              "      <th></th>\n",
              "    </tr>\n",
              "  </thead>\n",
              "  <tbody>\n",
              "    <tr>\n",
              "      <th>&lt;1H OCEAN</th>\n",
              "      <td>9136</td>\n",
              "    </tr>\n",
              "    <tr>\n",
              "      <th>INLAND</th>\n",
              "      <td>6551</td>\n",
              "    </tr>\n",
              "    <tr>\n",
              "      <th>NEAR OCEAN</th>\n",
              "      <td>2658</td>\n",
              "    </tr>\n",
              "    <tr>\n",
              "      <th>NEAR BAY</th>\n",
              "      <td>2290</td>\n",
              "    </tr>\n",
              "    <tr>\n",
              "      <th>ISLAND</th>\n",
              "      <td>5</td>\n",
              "    </tr>\n",
              "  </tbody>\n",
              "</table>\n",
              "</div><br><label><b>dtype:</b> int64</label>"
            ]
          },
          "metadata": {},
          "execution_count": 58
        }
      ]
    },
    {
      "cell_type": "code",
      "execution_count": 59,
      "metadata": {
        "colab": {
          "base_uri": "https://localhost:8080/",
          "height": 320
        },
        "id": "cgsmiE76UjrT",
        "outputId": "5fc23528-77d8-4925-f384-48c86112085b"
      },
      "outputs": [
        {
          "output_type": "execute_result",
          "data": {
            "text/plain": [
              "          longitude      latitude  housing_median_age   total_rooms  \\\n",
              "count  20640.000000  20640.000000        20640.000000  20640.000000   \n",
              "mean    -119.569704     35.631861           28.639486   2635.763081   \n",
              "std        2.003532      2.135952           12.585558   2181.615252   \n",
              "min     -124.350000     32.540000            1.000000      2.000000   \n",
              "25%     -121.800000     33.930000           18.000000   1447.750000   \n",
              "50%     -118.490000     34.260000           29.000000   2127.000000   \n",
              "75%     -118.010000     37.710000           37.000000   3148.000000   \n",
              "max     -114.310000     41.950000           52.000000  39320.000000   \n",
              "\n",
              "       total_bedrooms    population    households  median_income  \\\n",
              "count    20433.000000  20640.000000  20640.000000   20640.000000   \n",
              "mean       537.870553   1425.476744    499.539680       3.870671   \n",
              "std        421.385070   1132.462122    382.329753       1.899822   \n",
              "min          1.000000      3.000000      1.000000       0.499900   \n",
              "25%        296.000000    787.000000    280.000000       2.563400   \n",
              "50%        435.000000   1166.000000    409.000000       3.534800   \n",
              "75%        647.000000   1725.000000    605.000000       4.743250   \n",
              "max       6445.000000  35682.000000   6082.000000      15.000100   \n",
              "\n",
              "       median_house_value  \n",
              "count        20640.000000  \n",
              "mean        206855.816909  \n",
              "std         115395.615874  \n",
              "min          14999.000000  \n",
              "25%         119600.000000  \n",
              "50%         179700.000000  \n",
              "75%         264725.000000  \n",
              "max         500001.000000  "
            ],
            "text/html": [
              "\n",
              "  <div id=\"df-f78d0d3c-ea7b-4d4f-9085-5122a3b0ca49\" class=\"colab-df-container\">\n",
              "    <div>\n",
              "<style scoped>\n",
              "    .dataframe tbody tr th:only-of-type {\n",
              "        vertical-align: middle;\n",
              "    }\n",
              "\n",
              "    .dataframe tbody tr th {\n",
              "        vertical-align: top;\n",
              "    }\n",
              "\n",
              "    .dataframe thead th {\n",
              "        text-align: right;\n",
              "    }\n",
              "</style>\n",
              "<table border=\"1\" class=\"dataframe\">\n",
              "  <thead>\n",
              "    <tr style=\"text-align: right;\">\n",
              "      <th></th>\n",
              "      <th>longitude</th>\n",
              "      <th>latitude</th>\n",
              "      <th>housing_median_age</th>\n",
              "      <th>total_rooms</th>\n",
              "      <th>total_bedrooms</th>\n",
              "      <th>population</th>\n",
              "      <th>households</th>\n",
              "      <th>median_income</th>\n",
              "      <th>median_house_value</th>\n",
              "    </tr>\n",
              "  </thead>\n",
              "  <tbody>\n",
              "    <tr>\n",
              "      <th>count</th>\n",
              "      <td>20640.000000</td>\n",
              "      <td>20640.000000</td>\n",
              "      <td>20640.000000</td>\n",
              "      <td>20640.000000</td>\n",
              "      <td>20433.000000</td>\n",
              "      <td>20640.000000</td>\n",
              "      <td>20640.000000</td>\n",
              "      <td>20640.000000</td>\n",
              "      <td>20640.000000</td>\n",
              "    </tr>\n",
              "    <tr>\n",
              "      <th>mean</th>\n",
              "      <td>-119.569704</td>\n",
              "      <td>35.631861</td>\n",
              "      <td>28.639486</td>\n",
              "      <td>2635.763081</td>\n",
              "      <td>537.870553</td>\n",
              "      <td>1425.476744</td>\n",
              "      <td>499.539680</td>\n",
              "      <td>3.870671</td>\n",
              "      <td>206855.816909</td>\n",
              "    </tr>\n",
              "    <tr>\n",
              "      <th>std</th>\n",
              "      <td>2.003532</td>\n",
              "      <td>2.135952</td>\n",
              "      <td>12.585558</td>\n",
              "      <td>2181.615252</td>\n",
              "      <td>421.385070</td>\n",
              "      <td>1132.462122</td>\n",
              "      <td>382.329753</td>\n",
              "      <td>1.899822</td>\n",
              "      <td>115395.615874</td>\n",
              "    </tr>\n",
              "    <tr>\n",
              "      <th>min</th>\n",
              "      <td>-124.350000</td>\n",
              "      <td>32.540000</td>\n",
              "      <td>1.000000</td>\n",
              "      <td>2.000000</td>\n",
              "      <td>1.000000</td>\n",
              "      <td>3.000000</td>\n",
              "      <td>1.000000</td>\n",
              "      <td>0.499900</td>\n",
              "      <td>14999.000000</td>\n",
              "    </tr>\n",
              "    <tr>\n",
              "      <th>25%</th>\n",
              "      <td>-121.800000</td>\n",
              "      <td>33.930000</td>\n",
              "      <td>18.000000</td>\n",
              "      <td>1447.750000</td>\n",
              "      <td>296.000000</td>\n",
              "      <td>787.000000</td>\n",
              "      <td>280.000000</td>\n",
              "      <td>2.563400</td>\n",
              "      <td>119600.000000</td>\n",
              "    </tr>\n",
              "    <tr>\n",
              "      <th>50%</th>\n",
              "      <td>-118.490000</td>\n",
              "      <td>34.260000</td>\n",
              "      <td>29.000000</td>\n",
              "      <td>2127.000000</td>\n",
              "      <td>435.000000</td>\n",
              "      <td>1166.000000</td>\n",
              "      <td>409.000000</td>\n",
              "      <td>3.534800</td>\n",
              "      <td>179700.000000</td>\n",
              "    </tr>\n",
              "    <tr>\n",
              "      <th>75%</th>\n",
              "      <td>-118.010000</td>\n",
              "      <td>37.710000</td>\n",
              "      <td>37.000000</td>\n",
              "      <td>3148.000000</td>\n",
              "      <td>647.000000</td>\n",
              "      <td>1725.000000</td>\n",
              "      <td>605.000000</td>\n",
              "      <td>4.743250</td>\n",
              "      <td>264725.000000</td>\n",
              "    </tr>\n",
              "    <tr>\n",
              "      <th>max</th>\n",
              "      <td>-114.310000</td>\n",
              "      <td>41.950000</td>\n",
              "      <td>52.000000</td>\n",
              "      <td>39320.000000</td>\n",
              "      <td>6445.000000</td>\n",
              "      <td>35682.000000</td>\n",
              "      <td>6082.000000</td>\n",
              "      <td>15.000100</td>\n",
              "      <td>500001.000000</td>\n",
              "    </tr>\n",
              "  </tbody>\n",
              "</table>\n",
              "</div>\n",
              "    <div class=\"colab-df-buttons\">\n",
              "\n",
              "  <div class=\"colab-df-container\">\n",
              "    <button class=\"colab-df-convert\" onclick=\"convertToInteractive('df-f78d0d3c-ea7b-4d4f-9085-5122a3b0ca49')\"\n",
              "            title=\"Convert this dataframe to an interactive table.\"\n",
              "            style=\"display:none;\">\n",
              "\n",
              "  <svg xmlns=\"http://www.w3.org/2000/svg\" height=\"24px\" viewBox=\"0 -960 960 960\">\n",
              "    <path d=\"M120-120v-720h720v720H120Zm60-500h600v-160H180v160Zm220 220h160v-160H400v160Zm0 220h160v-160H400v160ZM180-400h160v-160H180v160Zm440 0h160v-160H620v160ZM180-180h160v-160H180v160Zm440 0h160v-160H620v160Z\"/>\n",
              "  </svg>\n",
              "    </button>\n",
              "\n",
              "  <style>\n",
              "    .colab-df-container {\n",
              "      display:flex;\n",
              "      gap: 12px;\n",
              "    }\n",
              "\n",
              "    .colab-df-convert {\n",
              "      background-color: #E8F0FE;\n",
              "      border: none;\n",
              "      border-radius: 50%;\n",
              "      cursor: pointer;\n",
              "      display: none;\n",
              "      fill: #1967D2;\n",
              "      height: 32px;\n",
              "      padding: 0 0 0 0;\n",
              "      width: 32px;\n",
              "    }\n",
              "\n",
              "    .colab-df-convert:hover {\n",
              "      background-color: #E2EBFA;\n",
              "      box-shadow: 0px 1px 2px rgba(60, 64, 67, 0.3), 0px 1px 3px 1px rgba(60, 64, 67, 0.15);\n",
              "      fill: #174EA6;\n",
              "    }\n",
              "\n",
              "    .colab-df-buttons div {\n",
              "      margin-bottom: 4px;\n",
              "    }\n",
              "\n",
              "    [theme=dark] .colab-df-convert {\n",
              "      background-color: #3B4455;\n",
              "      fill: #D2E3FC;\n",
              "    }\n",
              "\n",
              "    [theme=dark] .colab-df-convert:hover {\n",
              "      background-color: #434B5C;\n",
              "      box-shadow: 0px 1px 3px 1px rgba(0, 0, 0, 0.15);\n",
              "      filter: drop-shadow(0px 1px 2px rgba(0, 0, 0, 0.3));\n",
              "      fill: #FFFFFF;\n",
              "    }\n",
              "  </style>\n",
              "\n",
              "    <script>\n",
              "      const buttonEl =\n",
              "        document.querySelector('#df-f78d0d3c-ea7b-4d4f-9085-5122a3b0ca49 button.colab-df-convert');\n",
              "      buttonEl.style.display =\n",
              "        google.colab.kernel.accessAllowed ? 'block' : 'none';\n",
              "\n",
              "      async function convertToInteractive(key) {\n",
              "        const element = document.querySelector('#df-f78d0d3c-ea7b-4d4f-9085-5122a3b0ca49');\n",
              "        const dataTable =\n",
              "          await google.colab.kernel.invokeFunction('convertToInteractive',\n",
              "                                                    [key], {});\n",
              "        if (!dataTable) return;\n",
              "\n",
              "        const docLinkHtml = 'Like what you see? Visit the ' +\n",
              "          '<a target=\"_blank\" href=https://colab.research.google.com/notebooks/data_table.ipynb>data table notebook</a>'\n",
              "          + ' to learn more about interactive tables.';\n",
              "        element.innerHTML = '';\n",
              "        dataTable['output_type'] = 'display_data';\n",
              "        await google.colab.output.renderOutput(dataTable, element);\n",
              "        const docLink = document.createElement('div');\n",
              "        docLink.innerHTML = docLinkHtml;\n",
              "        element.appendChild(docLink);\n",
              "      }\n",
              "    </script>\n",
              "  </div>\n",
              "\n",
              "\n",
              "<div id=\"df-188f5d2a-90e4-4e1a-8020-18c0480e68c9\">\n",
              "  <button class=\"colab-df-quickchart\" onclick=\"quickchart('df-188f5d2a-90e4-4e1a-8020-18c0480e68c9')\"\n",
              "            title=\"Suggest charts\"\n",
              "            style=\"display:none;\">\n",
              "\n",
              "<svg xmlns=\"http://www.w3.org/2000/svg\" height=\"24px\"viewBox=\"0 0 24 24\"\n",
              "     width=\"24px\">\n",
              "    <g>\n",
              "        <path d=\"M19 3H5c-1.1 0-2 .9-2 2v14c0 1.1.9 2 2 2h14c1.1 0 2-.9 2-2V5c0-1.1-.9-2-2-2zM9 17H7v-7h2v7zm4 0h-2V7h2v10zm4 0h-2v-4h2v4z\"/>\n",
              "    </g>\n",
              "</svg>\n",
              "  </button>\n",
              "\n",
              "<style>\n",
              "  .colab-df-quickchart {\n",
              "      --bg-color: #E8F0FE;\n",
              "      --fill-color: #1967D2;\n",
              "      --hover-bg-color: #E2EBFA;\n",
              "      --hover-fill-color: #174EA6;\n",
              "      --disabled-fill-color: #AAA;\n",
              "      --disabled-bg-color: #DDD;\n",
              "  }\n",
              "\n",
              "  [theme=dark] .colab-df-quickchart {\n",
              "      --bg-color: #3B4455;\n",
              "      --fill-color: #D2E3FC;\n",
              "      --hover-bg-color: #434B5C;\n",
              "      --hover-fill-color: #FFFFFF;\n",
              "      --disabled-bg-color: #3B4455;\n",
              "      --disabled-fill-color: #666;\n",
              "  }\n",
              "\n",
              "  .colab-df-quickchart {\n",
              "    background-color: var(--bg-color);\n",
              "    border: none;\n",
              "    border-radius: 50%;\n",
              "    cursor: pointer;\n",
              "    display: none;\n",
              "    fill: var(--fill-color);\n",
              "    height: 32px;\n",
              "    padding: 0;\n",
              "    width: 32px;\n",
              "  }\n",
              "\n",
              "  .colab-df-quickchart:hover {\n",
              "    background-color: var(--hover-bg-color);\n",
              "    box-shadow: 0 1px 2px rgba(60, 64, 67, 0.3), 0 1px 3px 1px rgba(60, 64, 67, 0.15);\n",
              "    fill: var(--button-hover-fill-color);\n",
              "  }\n",
              "\n",
              "  .colab-df-quickchart-complete:disabled,\n",
              "  .colab-df-quickchart-complete:disabled:hover {\n",
              "    background-color: var(--disabled-bg-color);\n",
              "    fill: var(--disabled-fill-color);\n",
              "    box-shadow: none;\n",
              "  }\n",
              "\n",
              "  .colab-df-spinner {\n",
              "    border: 2px solid var(--fill-color);\n",
              "    border-color: transparent;\n",
              "    border-bottom-color: var(--fill-color);\n",
              "    animation:\n",
              "      spin 1s steps(1) infinite;\n",
              "  }\n",
              "\n",
              "  @keyframes spin {\n",
              "    0% {\n",
              "      border-color: transparent;\n",
              "      border-bottom-color: var(--fill-color);\n",
              "      border-left-color: var(--fill-color);\n",
              "    }\n",
              "    20% {\n",
              "      border-color: transparent;\n",
              "      border-left-color: var(--fill-color);\n",
              "      border-top-color: var(--fill-color);\n",
              "    }\n",
              "    30% {\n",
              "      border-color: transparent;\n",
              "      border-left-color: var(--fill-color);\n",
              "      border-top-color: var(--fill-color);\n",
              "      border-right-color: var(--fill-color);\n",
              "    }\n",
              "    40% {\n",
              "      border-color: transparent;\n",
              "      border-right-color: var(--fill-color);\n",
              "      border-top-color: var(--fill-color);\n",
              "    }\n",
              "    60% {\n",
              "      border-color: transparent;\n",
              "      border-right-color: var(--fill-color);\n",
              "    }\n",
              "    80% {\n",
              "      border-color: transparent;\n",
              "      border-right-color: var(--fill-color);\n",
              "      border-bottom-color: var(--fill-color);\n",
              "    }\n",
              "    90% {\n",
              "      border-color: transparent;\n",
              "      border-bottom-color: var(--fill-color);\n",
              "    }\n",
              "  }\n",
              "</style>\n",
              "\n",
              "  <script>\n",
              "    async function quickchart(key) {\n",
              "      const quickchartButtonEl =\n",
              "        document.querySelector('#' + key + ' button');\n",
              "      quickchartButtonEl.disabled = true;  // To prevent multiple clicks.\n",
              "      quickchartButtonEl.classList.add('colab-df-spinner');\n",
              "      try {\n",
              "        const charts = await google.colab.kernel.invokeFunction(\n",
              "            'suggestCharts', [key], {});\n",
              "      } catch (error) {\n",
              "        console.error('Error during call to suggestCharts:', error);\n",
              "      }\n",
              "      quickchartButtonEl.classList.remove('colab-df-spinner');\n",
              "      quickchartButtonEl.classList.add('colab-df-quickchart-complete');\n",
              "    }\n",
              "    (() => {\n",
              "      let quickchartButtonEl =\n",
              "        document.querySelector('#df-188f5d2a-90e4-4e1a-8020-18c0480e68c9 button');\n",
              "      quickchartButtonEl.style.display =\n",
              "        google.colab.kernel.accessAllowed ? 'block' : 'none';\n",
              "    })();\n",
              "  </script>\n",
              "</div>\n",
              "\n",
              "    </div>\n",
              "  </div>\n"
            ],
            "application/vnd.google.colaboratory.intrinsic+json": {
              "type": "dataframe",
              "summary": "{\n  \"name\": \"housing\",\n  \"rows\": 8,\n  \"fields\": [\n    {\n      \"column\": \"longitude\",\n      \"properties\": {\n        \"dtype\": \"number\",\n        \"std\": 7333.554670164394,\n        \"min\": -124.35,\n        \"max\": 20640.0,\n        \"num_unique_values\": 8,\n        \"samples\": [\n          -119.56970445736432,\n          -118.49,\n          20640.0\n        ],\n        \"semantic_type\": \"\",\n        \"description\": \"\"\n      }\n    },\n    {\n      \"column\": \"latitude\",\n      \"properties\": {\n        \"dtype\": \"number\",\n        \"std\": 7286.333552413666,\n        \"min\": 2.135952397457107,\n        \"max\": 20640.0,\n        \"num_unique_values\": 8,\n        \"samples\": [\n          35.63186143410853,\n          34.26,\n          20640.0\n        ],\n        \"semantic_type\": \"\",\n        \"description\": \"\"\n      }\n    },\n    {\n      \"column\": \"housing_median_age\",\n      \"properties\": {\n        \"dtype\": \"number\",\n        \"std\": 7288.35672120143,\n        \"min\": 1.0,\n        \"max\": 20640.0,\n        \"num_unique_values\": 8,\n        \"samples\": [\n          28.639486434108527,\n          29.0,\n          20640.0\n        ],\n        \"semantic_type\": \"\",\n        \"description\": \"\"\n      }\n    },\n    {\n      \"column\": \"total_rooms\",\n      \"properties\": {\n        \"dtype\": \"number\",\n        \"std\": 13944.990983306394,\n        \"min\": 2.0,\n        \"max\": 39320.0,\n        \"num_unique_values\": 8,\n        \"samples\": [\n          2635.7630813953488,\n          2127.0,\n          20640.0\n        ],\n        \"semantic_type\": \"\",\n        \"description\": \"\"\n      }\n    },\n    {\n      \"column\": \"total_bedrooms\",\n      \"properties\": {\n        \"dtype\": \"number\",\n        \"std\": 7106.427031043755,\n        \"min\": 1.0,\n        \"max\": 20433.0,\n        \"num_unique_values\": 8,\n        \"samples\": [\n          537.8705525375618,\n          435.0,\n          20433.0\n        ],\n        \"semantic_type\": \"\",\n        \"description\": \"\"\n      }\n    },\n    {\n      \"column\": \"population\",\n      \"properties\": {\n        \"dtype\": \"number\",\n        \"std\": 13192.258841737372,\n        \"min\": 3.0,\n        \"max\": 35682.0,\n        \"num_unique_values\": 8,\n        \"samples\": [\n          1425.4767441860465,\n          1166.0,\n          20640.0\n        ],\n        \"semantic_type\": \"\",\n        \"description\": \"\"\n      }\n    },\n    {\n      \"column\": \"households\",\n      \"properties\": {\n        \"dtype\": \"number\",\n        \"std\": 7167.532601135343,\n        \"min\": 1.0,\n        \"max\": 20640.0,\n        \"num_unique_values\": 8,\n        \"samples\": [\n          499.5396802325581,\n          409.0,\n          20640.0\n        ],\n        \"semantic_type\": \"\",\n        \"description\": \"\"\n      }\n    },\n    {\n      \"column\": \"median_income\",\n      \"properties\": {\n        \"dtype\": \"number\",\n        \"std\": 7295.721435853639,\n        \"min\": 0.4999,\n        \"max\": 20640.0,\n        \"num_unique_values\": 8,\n        \"samples\": [\n          3.8706710029069766,\n          3.5347999999999997,\n          20640.0\n        ],\n        \"semantic_type\": \"\",\n        \"description\": \"\"\n      }\n    },\n    {\n      \"column\": \"median_house_value\",\n      \"properties\": {\n        \"dtype\": \"number\",\n        \"std\": 156160.28379826449,\n        \"min\": 14999.0,\n        \"max\": 500001.0,\n        \"num_unique_values\": 8,\n        \"samples\": [\n          206855.81690891474,\n          179700.0,\n          20640.0\n        ],\n        \"semantic_type\": \"\",\n        \"description\": \"\"\n      }\n    }\n  ]\n}"
            }
          },
          "metadata": {},
          "execution_count": 59
        }
      ],
      "source": [
        "housing.describe()"
      ]
    },
    {
      "cell_type": "markdown",
      "metadata": {
        "id": "fLdRUvqyUjrU"
      },
      "source": [
        "The following cell is not shown either in the book. It creates the `images/end_to_end_project` folder (if it doesn't already exist), and it defines the `save_fig()` function which is used through this notebook to save the figures in high-res for the book."
      ]
    },
    {
      "cell_type": "code",
      "source": [
        "# 路径拼接，pathlib 的特性，比传统的字符串拼接更安全、易读。\n",
        "IMAGES_PATH = Path() / \"images\" / \"end_to_end_project\"\n",
        "IMAGES_PATH.mkdir(parents=True, exist_ok=True)\n",
        "\n",
        "def save_fig(fig_id, tight_layout=True, fig_extension=\"png\", resolution=30) -> None:\n",
        "  path = IMAGES_PATH / f\"{fig_id}.{fig_extension}\"\n",
        "  if tight_layout:\n",
        "    plt.tight_layout()\n",
        "  plt.savefig(path, format=fig_extension, dpi=resolution)"
      ],
      "metadata": {
        "id": "xXESKzEsYogC"
      },
      "execution_count": 60,
      "outputs": []
    },
    {
      "cell_type": "code",
      "source": [
        "import matplotlib.pyplot as plt\n",
        "\n",
        "plt.rc('font', size=14)\n",
        "plt.rc('axes', labelsize=14, titlesize=14)\n",
        "plt.rc('legend', fontsize=14)\n",
        "plt.rc('xtick', labelsize=10)\n",
        "plt.rc('ytick', labelsize=10)\n",
        "\n",
        "housing.hist(bins=50, figsize=(12, 8))\n",
        "save_fig(\"attribute_histogram_plots\")\n",
        "plt.show()"
      ],
      "metadata": {
        "id": "r53paXRQalrD",
        "outputId": "dfed46be-a89e-4038-aecc-7b30fb7e6370",
        "colab": {
          "base_uri": "https://localhost:8080/",
          "height": 688
        }
      },
      "execution_count": 61,
      "outputs": [
        {
          "output_type": "display_data",
          "data": {
            "text/plain": [
              "<Figure size 1200x800 with 9 Axes>"
            ],
            "image/png": "[encoded data removed]"
          },
          "metadata": {}
        }
      ]
    },
    {
      "cell_type": "markdown",
      "metadata": {
        "id": "vk1H_oyGUjrV"
      },
      "source": [
        "## Create a Test Set"
      ]
    },
    {
      "cell_type": "code",
      "source": [
        "import numpy as np\n",
        "\n",
        "def shuffle_and_split_data(data, test_ratio) -> list[np, np]:\n",
        "  shuffled_indices = np.random.permutation(len(data))\n",
        "  test_set_size = int(len(data) * test_ratio)\n",
        "  test_indices = shuffled_indices[:test_set_size]\n",
        "  train_indices = shuffled_indices[test_set_size:]\n",
        "\n",
        "  return data.iloc[train_indices], data.iloc[test_indices]"
      ],
      "metadata": {
        "id": "IQN4xhhUcZHG"
      },
      "execution_count": 62,
      "outputs": []
    },
    {
      "cell_type": "code",
      "source": [
        "train_set, test_set = shuffle_and_split_data(housing, 0.2)\n",
        "print(len(train_set))\n",
        "print(len(test_set))"
      ],
      "metadata": {
        "id": "PTF1LPR2dIiG",
        "outputId": "5d91db0b-bab6-4f2b-af1b-4bfd67c9730f",
        "colab": {
          "base_uri": "https://localhost:8080/"
        }
      },
      "execution_count": 63,
      "outputs": [
        {
          "output_type": "stream",
          "name": "stdout",
          "text": [
            "16512\n",
            "4128\n"
          ]
        }
      ]
    },
    {
      "cell_type": "markdown",
      "metadata": {
        "id": "GVLvTstOUjrW"
      },
      "source": [
        "To ensure that this notebook's outputs remain the same every time we run it, we need to set the random seed:"
      ]
    },
    {
      "cell_type": "code",
      "execution_count": 64,
      "metadata": {
        "id": "w7NKNeSnUjrW"
      },
      "outputs": [],
      "source": [
        "np.random.seed(42)"
      ]
    },
    {
      "cell_type": "markdown",
      "metadata": {
        "id": "wPsAPrktUjrY"
      },
      "source": [
        "Sadly, this won't guarantee that this notebook will output exactly the same results as in the book, since there are other possible sources of variation. The most important is the fact that algorithms get tweaked over time when libraries evolve. So please tolerate some minor differences: hopefully, most of the outputs should be the same, or at least in the right ballpark."
      ]
    },
    {
      "cell_type": "markdown",
      "metadata": {
        "id": "KfH10YktUjrY"
      },
      "source": [
        "Note: another source of randomness is the order of Python sets: it is based on Python's `hash()` function, which is randomly \"salted\" when Python starts up (this started in Python 3.3, to prevent some denial-of-service attacks). To remove this randomness, the solution is to set the `PYTHONHASHSEED` environment variable to `\"0\"` _before_ Python even starts up. Nothing will happen if you do it after that. Luckily, if you're running this notebook on Colab, the variable is already set for you."
      ]
    },
    {
      "cell_type": "code",
      "source": [
        "from zlib import crc32\n",
        "\n",
        "def is_id_in_test_set(identifier, test_ratio: float) -> bool:\n",
        "  return crc32(np.int64(identifier)) < test_ratio * 2 ** 32\n",
        "\n",
        "def split_data_with_id_hash(data: list, test_ratio: float, id_column: str) -> list:\n",
        "  ids: list = data[id_column]\n",
        "  in_test_set = ids.apply(lambda id_: is_id_in_test_set(id_, test_ratio))\n",
        "  return data.loc[~in_test_set], data.loc[in_test_set]\n",
        "# 此时房屋数据集为表示符列"
      ],
      "metadata": {
        "id": "A_FFe0MKev3y"
      },
      "execution_count": 65,
      "outputs": []
    },
    {
      "cell_type": "code",
      "source": [
        "# 最简单的解决方案：使用行索引作为ID\n",
        "print(housing.reset_index())\n",
        "housing_with_id = housing.reset_index()\n",
        "\n",
        "train_set, test_set = split_data_with_id_hash(housing_with_id, 0.2, \"index\")"
      ],
      "metadata": {
        "collapsed": true,
        "id": "niq03LXxfZCh",
        "outputId": "553cfd68-729e-4e4e-8580-3e052793adc8",
        "colab": {
          "base_uri": "https://localhost:8080/"
        }
      },
      "execution_count": 66,
      "outputs": [
        {
          "output_type": "stream",
          "name": "stdout",
          "text": [
            "       index  longitude  latitude  housing_median_age  total_rooms  \\\n",
            "0          0    -122.23     37.88                41.0        880.0   \n",
            "1          1    -122.22     37.86                21.0       7099.0   \n",
            "2          2    -122.24     37.85                52.0       1467.0   \n",
            "3          3    -122.25     37.85                52.0       1274.0   \n",
            "4          4    -122.25     37.85                52.0       1627.0   \n",
            "...      ...        ...       ...                 ...          ...   \n",
            "20635  20635    -121.09     39.48                25.0       1665.0   \n",
            "20636  20636    -121.21     39.49                18.0        697.0   \n",
            "20637  20637    -121.22     39.43                17.0       2254.0   \n",
            "20638  20638    -121.32     39.43                18.0       1860.0   \n",
            "20639  20639    -121.24     39.37                16.0       2785.0   \n",
            "\n",
            "       total_bedrooms  population  households  median_income  \\\n",
            "0               129.0       322.0       126.0         8.3252   \n",
            "1              1106.0      2401.0      1138.0         8.3014   \n",
            "2               190.0       496.0       177.0         7.2574   \n",
            "3               235.0       558.0       219.0         5.6431   \n",
            "4               280.0       565.0       259.0         3.8462   \n",
            "...               ...         ...         ...            ...   \n",
            "20635           374.0       845.0       330.0         1.5603   \n",
            "20636           150.0       356.0       114.0         2.5568   \n",
            "20637           485.0      1007.0       433.0         1.7000   \n",
            "20638           409.0       741.0       349.0         1.8672   \n",
            "20639           616.0      1387.0       530.0         2.3886   \n",
            "\n",
            "       median_house_value ocean_proximity  \n",
            "0                452600.0        NEAR BAY  \n",
            "1                358500.0        NEAR BAY  \n",
            "2                352100.0        NEAR BAY  \n",
            "3                341300.0        NEAR BAY  \n",
            "4                342200.0        NEAR BAY  \n",
            "...                   ...             ...  \n",
            "20635             78100.0          INLAND  \n",
            "20636             77100.0          INLAND  \n",
            "20637             92300.0          INLAND  \n",
            "20638             84700.0          INLAND  \n",
            "20639             89400.0          INLAND  \n",
            "\n",
            "[20640 rows x 11 columns]\n"
          ]
        }
      ]
    },
    {
      "cell_type": "code",
      "source": [
        "# 若使用行索引作为唯一标识符，则需要确保将新数据附加到数据集的末尾并且不会删除任何行\n",
        "housing_with_id[\"id\"] = housing[\"longitude\"] * 1000 + housing[\"latitude\"]\n",
        "train_set, test_set = split_data_with_id_hash(housing_with_id, 0.2, \"id\")"
      ],
      "metadata": {
        "id": "I2dHiTQtf5h2"
      },
      "execution_count": 67,
      "outputs": []
    },
    {
      "cell_type": "code",
      "source": [
        "from sklearn.model_selection import train_test_split\n",
        "\n",
        "train_set, test_ste = train_test_split(housing, test_size=0.2, random_state=42)"
      ],
      "metadata": {
        "collapsed": true,
        "id": "DlSqqCzsgfoK"
      },
      "execution_count": 68,
      "outputs": []
    },
    {
      "cell_type": "code",
      "execution_count": 69,
      "metadata": {
        "colab": {
          "base_uri": "https://localhost:8080/"
        },
        "id": "E4MYFoF5Ujra",
        "outputId": "c7b5ac5f-4750-49a6-acbd-f40b5f9699ff"
      },
      "outputs": [
        {
          "output_type": "execute_result",
          "data": {
            "text/plain": [
              "np.int64(45)"
            ]
          },
          "metadata": {},
          "execution_count": 69
        }
      ],
      "source": [
        "test_set[\"total_bedrooms\"].isnull().sum()"
      ]
    },
    {
      "cell_type": "markdown",
      "metadata": {
        "id": "JESmif89Ujra"
      },
      "source": [
        "To find the probability that a random sample of 1,000 people contains less than 48.5% female or more than 53.5% female when the population's female ratio is 51.1%, we use the [binomial distribution](https://en.wikipedia.org/wiki/Binomial_distribution). The `cdf()` method of the binomial distribution gives us the probability that the number of females will be equal or less than the given value."
      ]
    },
    {
      "cell_type": "code",
      "execution_count": 70,
      "metadata": {
        "id": "x5Qwh2uYUjrb",
        "outputId": "da78cbb9-9b18-4206-97d8-351cab4ab9d8",
        "colab": {
          "base_uri": "https://localhost:8080/"
        }
      },
      "outputs": [
        {
          "output_type": "stream",
          "name": "stdout",
          "text": [
            "0.10736798530929942\n"
          ]
        }
      ],
      "source": [
        "# extra code – shows how to compute the 10.7% proba of getting a bad sample\n",
        "\n",
        "from scipy.stats import binom\n",
        "\n",
        "sample_size = 1000\n",
        "ratio_female = 0.511\n",
        "proba_too_small = binom(sample_size, ratio_female).cdf(485 - 1)\n",
        "proba_too_large = 1 - binom(sample_size, ratio_female).cdf(535)\n",
        "print(proba_too_small + proba_too_large)"
      ]
    },
    {
      "cell_type": "markdown",
      "metadata": {
        "id": "-rswD1mNUjrb"
      },
      "source": [
        "If you prefer simulations over maths, here's how you could get roughly the same result:"
      ]
    },
    {
      "cell_type": "code",
      "execution_count": 71,
      "metadata": {
        "id": "gIbd5l7HUjrb",
        "outputId": "f64d3f2f-74ae-456a-c2c9-21e1980aff06",
        "colab": {
          "base_uri": "https://localhost:8080/"
        }
      },
      "outputs": [
        {
          "output_type": "execute_result",
          "data": {
            "text/plain": [
              "np.float64(0.1071)"
            ]
          },
          "metadata": {},
          "execution_count": 71
        }
      ],
      "source": [
        "# extra code – shows another way to estimate the probability of bad sample\n",
        "\n",
        "np.random.seed(42)\n",
        "\n",
        "samples = (np.random.rand(100_000, sample_size) < ratio_female).sum(axis=1)\n",
        "((samples < 485) | (samples > 535)).mean()"
      ]
    },
    {
      "cell_type": "code",
      "source": [
        "# 收入类别属性\n",
        "housing[\"income_cat\"] = pd.cut(housing[\"median_income\"],\n",
        "                               bins=[0., 1.5, 3.0, 4.5, 6.0, np.inf],\n",
        "                               labels=[1, 2, 3, 4, 5])"
      ],
      "metadata": {
        "id": "wKYcGImVh6Hi"
      },
      "execution_count": 72,
      "outputs": []
    },
    {
      "cell_type": "code",
      "source": [
        "# 开始分层拆分\n",
        "from sklearn.model_selection import StratifiedShuffleSplit\n",
        "\n",
        "splitter = StratifiedShuffleSplit(n_splits=10, test_size=0.2, random_state=42)\n",
        "strat_splits = []\n",
        "\n",
        "for train_index, test_index in splitter.split(housing, housing[\"income_cat\"]):\n",
        "  strat_train_set_n = housing.iloc[train_index]\n",
        "  strat_test_set_n = housing.iloc[test_index]\n",
        "  strat_splits.append([strat_train_set_n, strat_test_set_n])\n"
      ],
      "metadata": {
        "id": "3Nyv3pSLilry"
      },
      "execution_count": 73,
      "outputs": []
    },
    {
      "cell_type": "code",
      "execution_count": 74,
      "metadata": {
        "id": "AQwwqXcgUjrj"
      },
      "outputs": [],
      "source": [
        "strat_train_set, strat_test_set = strat_splits[0]"
      ]
    },
    {
      "cell_type": "markdown",
      "metadata": {
        "id": "FB9Lm0NTUjrj"
      },
      "source": [
        "It's much shorter to get a single （更简洁的方法拆分）\n",
        "stratified split:"
      ]
    },
    {
      "cell_type": "code",
      "source": [
        "strat_train_set, strat_test_set = train_test_split(housing, test_size=0.2,\n",
        "                                                   stratify=housing[\"income_cat\"],\n",
        "                                                   random_state=42)"
      ],
      "metadata": {
        "id": "k-lG_p-oMIWo"
      },
      "execution_count": 75,
      "outputs": []
    },
    {
      "cell_type": "code",
      "execution_count": 76,
      "metadata": {
        "id": "5rDEsVWcUjrk",
        "outputId": "a9c28297-d219-4543-fe04-0aa744388771",
        "collapsed": true,
        "colab": {
          "base_uri": "https://localhost:8080/",
          "height": 272
        }
      },
      "outputs": [
        {
          "output_type": "execute_result",
          "data": {
            "text/plain": [
              "income_cat\n",
              "3    0.350533\n",
              "2    0.318798\n",
              "4    0.176357\n",
              "5    0.114341\n",
              "1    0.039971\n",
              "Name: count, dtype: float64"
            ],
            "text/html": [
              "<div>\n",
              "<style scoped>\n",
              "    .dataframe tbody tr th:only-of-type {\n",
              "        vertical-align: middle;\n",
              "    }\n",
              "\n",
              "    .dataframe tbody tr th {\n",
              "        vertical-align: top;\n",
              "    }\n",
              "\n",
              "    .dataframe thead th {\n",
              "        text-align: right;\n",
              "    }\n",
              "</style>\n",
              "<table border=\"1\" class=\"dataframe\">\n",
              "  <thead>\n",
              "    <tr style=\"text-align: right;\">\n",
              "      <th></th>\n",
              "      <th>count</th>\n",
              "    </tr>\n",
              "    <tr>\n",
              "      <th>income_cat</th>\n",
              "      <th></th>\n",
              "    </tr>\n",
              "  </thead>\n",
              "  <tbody>\n",
              "    <tr>\n",
              "      <th>3</th>\n",
              "      <td>0.350533</td>\n",
              "    </tr>\n",
              "    <tr>\n",
              "      <th>2</th>\n",
              "      <td>0.318798</td>\n",
              "    </tr>\n",
              "    <tr>\n",
              "      <th>4</th>\n",
              "      <td>0.176357</td>\n",
              "    </tr>\n",
              "    <tr>\n",
              "      <th>5</th>\n",
              "      <td>0.114341</td>\n",
              "    </tr>\n",
              "    <tr>\n",
              "      <th>1</th>\n",
              "      <td>0.039971</td>\n",
              "    </tr>\n",
              "  </tbody>\n",
              "</table>\n",
              "</div><br><label><b>dtype:</b> float64</label>"
            ]
          },
          "metadata": {},
          "execution_count": 76
        }
      ],
      "source": [
        "strat_test_set[\"income_cat\"].value_counts() / len(strat_test_set)"
      ]
    },
    {
      "cell_type": "code",
      "source": [
        "# 分层采样与纯随机采样的偏差比较\n",
        "# 分层采样生成的测试集的收入类别比例与完整数据集中的收入类别比例几乎相同\n",
        "# 而使用纯随机采样生成的采样集则存在偏差\n",
        "def income_cat_proportions(data) -> float:\n",
        "  return data[\"income_cat\"].value_counts() / len(data)\n",
        "\n",
        "train_set, test_set = train_test_split(housing, test_size = 0.2, random_state=42)\n",
        "\n",
        "compare_props = pd.DataFrame({\n",
        "    \"完整数据集 %\": income_cat_proportions(housing),\n",
        "    \"分层采样 %\": income_cat_proportions(strat_test_set),\n",
        "    \"纯随机采样 %\": income_cat_proportions(test_set),\n",
        "}).sort_index()\n",
        "\n",
        "compare_props.index.name = \"收入类别\"\n",
        "compare_props[\"分层采样偏差 %\"] = (compare_props[\"分层采样 %\"] /\n",
        "                                   compare_props[\"完整数据集 %\"] - 1)\n",
        "compare_props[\"纯随机采样偏差 %\"] = (compare_props[\"纯随机采样 %\"] /\n",
        "                                  compare_props[\"完整数据集 %\"] - 1)\n",
        "(compare_props * 100).round(2)"
      ],
      "metadata": {
        "id": "FOTmba4zMqan",
        "outputId": "9d0c840d-ec86-4194-e085-ce8fb1b9dd74",
        "colab": {
          "base_uri": "https://localhost:8080/",
          "height": 237
        }
      },
      "execution_count": 77,
      "outputs": [
        {
          "output_type": "execute_result",
          "data": {
            "text/plain": [
              "      完整数据集 %  分层采样 %  纯随机采样 %  分层采样偏差 %  纯随机采样偏差 %\n",
              "收入类别                                               \n",
              "1        3.98    4.00     4.24      0.36       6.45\n",
              "2       31.88   31.88    30.74     -0.02      -3.59\n",
              "3       35.06   35.05    34.52     -0.01      -1.53\n",
              "4       17.63   17.64    18.41      0.03       4.42\n",
              "5       11.44   11.43    12.09     -0.08       5.63"
            ],
            "text/html": [
              "\n",
              "  <div id=\"df-a6cc2b84-b562-4eaf-8616-ba4d5ce71aaf\" class=\"colab-df-container\">\n",
              "    <div>\n",
              "<style scoped>\n",
              "    .dataframe tbody tr th:only-of-type {\n",
              "        vertical-align: middle;\n",
              "    }\n",
              "\n",
              "    .dataframe tbody tr th {\n",
              "        vertical-align: top;\n",
              "    }\n",
              "\n",
              "    .dataframe thead th {\n",
              "        text-align: right;\n",
              "    }\n",
              "</style>\n",
              "<table border=\"1\" class=\"dataframe\">\n",
              "  <thead>\n",
              "    <tr style=\"text-align: right;\">\n",
              "      <th></th>\n",
              "      <th>完整数据集 %</th>\n",
              "      <th>分层采样 %</th>\n",
              "      <th>纯随机采样 %</th>\n",
              "      <th>分层采样偏差 %</th>\n",
              "      <th>纯随机采样偏差 %</th>\n",
              "    </tr>\n",
              "    <tr>\n",
              "      <th>收入类别</th>\n",
              "      <th></th>\n",
              "      <th></th>\n",
              "      <th></th>\n",
              "      <th></th>\n",
              "      <th></th>\n",
              "    </tr>\n",
              "  </thead>\n",
              "  <tbody>\n",
              "    <tr>\n",
              "      <th>1</th>\n",
              "      <td>3.98</td>\n",
              "      <td>4.00</td>\n",
              "      <td>4.24</td>\n",
              "      <td>0.36</td>\n",
              "      <td>6.45</td>\n",
              "    </tr>\n",
              "    <tr>\n",
              "      <th>2</th>\n",
              "      <td>31.88</td>\n",
              "      <td>31.88</td>\n",
              "      <td>30.74</td>\n",
              "      <td>-0.02</td>\n",
              "      <td>-3.59</td>\n",
              "    </tr>\n",
              "    <tr>\n",
              "      <th>3</th>\n",
              "      <td>35.06</td>\n",
              "      <td>35.05</td>\n",
              "      <td>34.52</td>\n",
              "      <td>-0.01</td>\n",
              "      <td>-1.53</td>\n",
              "    </tr>\n",
              "    <tr>\n",
              "      <th>4</th>\n",
              "      <td>17.63</td>\n",
              "      <td>17.64</td>\n",
              "      <td>18.41</td>\n",
              "      <td>0.03</td>\n",
              "      <td>4.42</td>\n",
              "    </tr>\n",
              "    <tr>\n",
              "      <th>5</th>\n",
              "      <td>11.44</td>\n",
              "      <td>11.43</td>\n",
              "      <td>12.09</td>\n",
              "      <td>-0.08</td>\n",
              "      <td>5.63</td>\n",
              "    </tr>\n",
              "  </tbody>\n",
              "</table>\n",
              "</div>\n",
              "    <div class=\"colab-df-buttons\">\n",
              "\n",
              "  <div class=\"colab-df-container\">\n",
              "    <button class=\"colab-df-convert\" onclick=\"convertToInteractive('df-a6cc2b84-b562-4eaf-8616-ba4d5ce71aaf')\"\n",
              "            title=\"Convert this dataframe to an interactive table.\"\n",
              "            style=\"display:none;\">\n",
              "\n",
              "  <svg xmlns=\"http://www.w3.org/2000/svg\" height=\"24px\" viewBox=\"0 -960 960 960\">\n",
              "    <path d=\"M120-120v-720h720v720H120Zm60-500h600v-160H180v160Zm220 220h160v-160H400v160Zm0 220h160v-160H400v160ZM180-400h160v-160H180v160Zm440 0h160v-160H620v160ZM180-180h160v-160H180v160Zm440 0h160v-160H620v160Z\"/>\n",
              "  </svg>\n",
              "    </button>\n",
              "\n",
              "  <style>\n",
              "    .colab-df-container {\n",
              "      display:flex;\n",
              "      gap: 12px;\n",
              "    }\n",
              "\n",
              "    .colab-df-convert {\n",
              "      background-color: #E8F0FE;\n",
              "      border: none;\n",
              "      border-radius: 50%;\n",
              "      cursor: pointer;\n",
              "      display: none;\n",
              "      fill: #1967D2;\n",
              "      height: 32px;\n",
              "      padding: 0 0 0 0;\n",
              "      width: 32px;\n",
              "    }\n",
              "\n",
              "    .colab-df-convert:hover {\n",
              "      background-color: #E2EBFA;\n",
              "      box-shadow: 0px 1px 2px rgba(60, 64, 67, 0.3), 0px 1px 3px 1px rgba(60, 64, 67, 0.15);\n",
              "      fill: #174EA6;\n",
              "    }\n",
              "\n",
              "    .colab-df-buttons div {\n",
              "      margin-bottom: 4px;\n",
              "    }\n",
              "\n",
              "    [theme=dark] .colab-df-convert {\n",
              "      background-color: #3B4455;\n",
              "      fill: #D2E3FC;\n",
              "    }\n",
              "\n",
              "    [theme=dark] .colab-df-convert:hover {\n",
              "      background-color: #434B5C;\n",
              "      box-shadow: 0px 1px 3px 1px rgba(0, 0, 0, 0.15);\n",
              "      filter: drop-shadow(0px 1px 2px rgba(0, 0, 0, 0.3));\n",
              "      fill: #FFFFFF;\n",
              "    }\n",
              "  </style>\n",
              "\n",
              "    <script>\n",
              "      const buttonEl =\n",
              "        document.querySelector('#df-a6cc2b84-b562-4eaf-8616-ba4d5ce71aaf button.colab-df-convert');\n",
              "      buttonEl.style.display =\n",
              "        google.colab.kernel.accessAllowed ? 'block' : 'none';\n",
              "\n",
              "      async function convertToInteractive(key) {\n",
              "        const element = document.querySelector('#df-a6cc2b84-b562-4eaf-8616-ba4d5ce71aaf');\n",
              "        const dataTable =\n",
              "          await google.colab.kernel.invokeFunction('convertToInteractive',\n",
              "                                                    [key], {});\n",
              "        if (!dataTable) return;\n",
              "\n",
              "        const docLinkHtml = 'Like what you see? Visit the ' +\n",
              "          '<a target=\"_blank\" href=https://colab.research.google.com/notebooks/data_table.ipynb>data table notebook</a>'\n",
              "          + ' to learn more about interactive tables.';\n",
              "        element.innerHTML = '';\n",
              "        dataTable['output_type'] = 'display_data';\n",
              "        await google.colab.output.renderOutput(dataTable, element);\n",
              "        const docLink = document.createElement('div');\n",
              "        docLink.innerHTML = docLinkHtml;\n",
              "        element.appendChild(docLink);\n",
              "      }\n",
              "    </script>\n",
              "  </div>\n",
              "\n",
              "\n",
              "<div id=\"df-1f9b83cc-021a-46ec-bae4-539168668ada\">\n",
              "  <button class=\"colab-df-quickchart\" onclick=\"quickchart('df-1f9b83cc-021a-46ec-bae4-539168668ada')\"\n",
              "            title=\"Suggest charts\"\n",
              "            style=\"display:none;\">\n",
              "\n",
              "<svg xmlns=\"http://www.w3.org/2000/svg\" height=\"24px\"viewBox=\"0 0 24 24\"\n",
              "     width=\"24px\">\n",
              "    <g>\n",
              "        <path d=\"M19 3H5c-1.1 0-2 .9-2 2v14c0 1.1.9 2 2 2h14c1.1 0 2-.9 2-2V5c0-1.1-.9-2-2-2zM9 17H7v-7h2v7zm4 0h-2V7h2v10zm4 0h-2v-4h2v4z\"/>\n",
              "    </g>\n",
              "</svg>\n",
              "  </button>\n",
              "\n",
              "<style>\n",
              "  .colab-df-quickchart {\n",
              "      --bg-color: #E8F0FE;\n",
              "      --fill-color: #1967D2;\n",
              "      --hover-bg-color: #E2EBFA;\n",
              "      --hover-fill-color: #174EA6;\n",
              "      --disabled-fill-color: #AAA;\n",
              "      --disabled-bg-color: #DDD;\n",
              "  }\n",
              "\n",
              "  [theme=dark] .colab-df-quickchart {\n",
              "      --bg-color: #3B4455;\n",
              "      --fill-color: #D2E3FC;\n",
              "      --hover-bg-color: #434B5C;\n",
              "      --hover-fill-color: #FFFFFF;\n",
              "      --disabled-bg-color: #3B4455;\n",
              "      --disabled-fill-color: #666;\n",
              "  }\n",
              "\n",
              "  .colab-df-quickchart {\n",
              "    background-color: var(--bg-color);\n",
              "    border: none;\n",
              "    border-radius: 50%;\n",
              "    cursor: pointer;\n",
              "    display: none;\n",
              "    fill: var(--fill-color);\n",
              "    height: 32px;\n",
              "    padding: 0;\n",
              "    width: 32px;\n",
              "  }\n",
              "\n",
              "  .colab-df-quickchart:hover {\n",
              "    background-color: var(--hover-bg-color);\n",
              "    box-shadow: 0 1px 2px rgba(60, 64, 67, 0.3), 0 1px 3px 1px rgba(60, 64, 67, 0.15);\n",
              "    fill: var(--button-hover-fill-color);\n",
              "  }\n",
              "\n",
              "  .colab-df-quickchart-complete:disabled,\n",
              "  .colab-df-quickchart-complete:disabled:hover {\n",
              "    background-color: var(--disabled-bg-color);\n",
              "    fill: var(--disabled-fill-color);\n",
              "    box-shadow: none;\n",
              "  }\n",
              "\n",
              "  .colab-df-spinner {\n",
              "    border: 2px solid var(--fill-color);\n",
              "    border-color: transparent;\n",
              "    border-bottom-color: var(--fill-color);\n",
              "    animation:\n",
              "      spin 1s steps(1) infinite;\n",
              "  }\n",
              "\n",
              "  @keyframes spin {\n",
              "    0% {\n",
              "      border-color: transparent;\n",
              "      border-bottom-color: var(--fill-color);\n",
              "      border-left-color: var(--fill-color);\n",
              "    }\n",
              "    20% {\n",
              "      border-color: transparent;\n",
              "      border-left-color: var(--fill-color);\n",
              "      border-top-color: var(--fill-color);\n",
              "    }\n",
              "    30% {\n",
              "      border-color: transparent;\n",
              "      border-left-color: var(--fill-color);\n",
              "      border-top-color: var(--fill-color);\n",
              "      border-right-color: var(--fill-color);\n",
              "    }\n",
              "    40% {\n",
              "      border-color: transparent;\n",
              "      border-right-color: var(--fill-color);\n",
              "      border-top-color: var(--fill-color);\n",
              "    }\n",
              "    60% {\n",
              "      border-color: transparent;\n",
              "      border-right-color: var(--fill-color);\n",
              "    }\n",
              "    80% {\n",
              "      border-color: transparent;\n",
              "      border-right-color: var(--fill-color);\n",
              "      border-bottom-color: var(--fill-color);\n",
              "    }\n",
              "    90% {\n",
              "      border-color: transparent;\n",
              "      border-bottom-color: var(--fill-color);\n",
              "    }\n",
              "  }\n",
              "</style>\n",
              "\n",
              "  <script>\n",
              "    async function quickchart(key) {\n",
              "      const quickchartButtonEl =\n",
              "        document.querySelector('#' + key + ' button');\n",
              "      quickchartButtonEl.disabled = true;  // To prevent multiple clicks.\n",
              "      quickchartButtonEl.classList.add('colab-df-spinner');\n",
              "      try {\n",
              "        const charts = await google.colab.kernel.invokeFunction(\n",
              "            'suggestCharts', [key], {});\n",
              "      } catch (error) {\n",
              "        console.error('Error during call to suggestCharts:', error);\n",
              "      }\n",
              "      quickchartButtonEl.classList.remove('colab-df-spinner');\n",
              "      quickchartButtonEl.classList.add('colab-df-quickchart-complete');\n",
              "    }\n",
              "    (() => {\n",
              "      let quickchartButtonEl =\n",
              "        document.querySelector('#df-1f9b83cc-021a-46ec-bae4-539168668ada button');\n",
              "      quickchartButtonEl.style.display =\n",
              "        google.colab.kernel.accessAllowed ? 'block' : 'none';\n",
              "    })();\n",
              "  </script>\n",
              "</div>\n",
              "\n",
              "    </div>\n",
              "  </div>\n"
            ],
            "application/vnd.google.colaboratory.intrinsic+json": {
              "type": "dataframe",
              "summary": "{\n  \"name\": \"(compare_props * 100)\",\n  \"rows\": 5,\n  \"fields\": [\n    {\n      \"column\": \"\\u6536\\u5165\\u7c7b\\u522b\",\n      \"properties\": {\n        \"dtype\": \"category\",\n        \"num_unique_values\": 5,\n        \"samples\": [\n          2,\n          5,\n          3\n        ],\n        \"semantic_type\": \"\",\n        \"description\": \"\"\n      }\n    },\n    {\n      \"column\": \"\\u5b8c\\u6574\\u6570\\u636e\\u96c6 %\",\n      \"properties\": {\n        \"dtype\": \"number\",\n        \"std\": 13.261493882666464,\n        \"min\": 3.98,\n        \"max\": 35.06,\n        \"num_unique_values\": 5,\n        \"samples\": [\n          31.88,\n          11.44,\n          35.06\n        ],\n        \"semantic_type\": \"\",\n        \"description\": \"\"\n      }\n    },\n    {\n      \"column\": \"\\u5206\\u5c42\\u91c7\\u6837 %\",\n      \"properties\": {\n        \"dtype\": \"number\",\n        \"std\": 13.253786251483007,\n        \"min\": 4.0,\n        \"max\": 35.05,\n        \"num_unique_values\": 5,\n        \"samples\": [\n          31.88,\n          11.43,\n          35.05\n        ],\n        \"semantic_type\": \"\",\n        \"description\": \"\"\n      }\n    },\n    {\n      \"column\": \"\\u7eaf\\u968f\\u673a\\u91c7\\u6837 %\",\n      \"properties\": {\n        \"dtype\": \"number\",\n        \"std\": 12.645669219143763,\n        \"min\": 4.24,\n        \"max\": 34.52,\n        \"num_unique_values\": 5,\n        \"samples\": [\n          30.74,\n          12.09,\n          34.52\n        ],\n        \"semantic_type\": \"\",\n        \"description\": \"\"\n      }\n    },\n    {\n      \"column\": \"\\u5206\\u5c42\\u91c7\\u6837\\u504f\\u5dee %\",\n      \"properties\": {\n        \"dtype\": \"number\",\n        \"std\": 0.174441967427566,\n        \"min\": -0.08,\n        \"max\": 0.36,\n        \"num_unique_values\": 5,\n        \"samples\": [\n          -0.02,\n          -0.08,\n          -0.01\n        ],\n        \"semantic_type\": \"\",\n        \"description\": \"\"\n      }\n    },\n    {\n      \"column\": \"\\u7eaf\\u968f\\u673a\\u91c7\\u6837\\u504f\\u5dee %\",\n      \"properties\": {\n        \"dtype\": \"number\",\n        \"std\": 4.5322157936267775,\n        \"min\": -3.59,\n        \"max\": 6.45,\n        \"num_unique_values\": 5,\n        \"samples\": [\n          -3.59,\n          5.63,\n          -1.53\n        ],\n        \"semantic_type\": \"\",\n        \"description\": \"\"\n      }\n    }\n  ]\n}"
            }
          },
          "metadata": {},
          "execution_count": 77
        }
      ]
    },
    {
      "cell_type": "markdown",
      "source": [
        "不会再次使用 `income_cat` 列，不妨删除它，将数据恢复原始状态："
      ],
      "metadata": {
        "id": "8KlJpkkzPWnx"
      }
    },
    {
      "cell_type": "code",
      "source": [
        "for set_ in (strat_train_set, strat_test_set):\n",
        "  set_.drop(\"income_cat\", axis=1, inplace=True)"
      ],
      "metadata": {
        "id": "xolnat02PVzB"
      },
      "execution_count": 78,
      "outputs": []
    },
    {
      "cell_type": "code",
      "source": [
        "print(strat_train_set.head())"
      ],
      "metadata": {
        "id": "FcfxZ__FPw58",
        "outputId": "11cd88b6-5f9a-4267-fffa-b477ea0713dc",
        "colab": {
          "base_uri": "https://localhost:8080/"
        }
      },
      "execution_count": 79,
      "outputs": [
        {
          "output_type": "stream",
          "name": "stdout",
          "text": [
            "       longitude  latitude  housing_median_age  total_rooms  total_bedrooms  \\\n",
            "13096    -122.42     37.80                52.0       3321.0          1115.0   \n",
            "14973    -118.38     34.14                40.0       1965.0           354.0   \n",
            "3785     -121.98     38.36                33.0       1083.0           217.0   \n",
            "14689    -117.11     33.75                17.0       4174.0           851.0   \n",
            "20507    -118.15     33.77                36.0       4366.0          1211.0   \n",
            "\n",
            "       population  households  median_income  median_house_value  \\\n",
            "13096      1576.0      1034.0         2.0987            458300.0   \n",
            "14973       666.0       357.0         6.0876            483800.0   \n",
            "3785        562.0       203.0         2.4330            101700.0   \n",
            "14689      1845.0       780.0         2.2618             96100.0   \n",
            "20507      1912.0      1172.0         3.5292            361800.0   \n",
            "\n",
            "      ocean_proximity  \n",
            "13096        NEAR BAY  \n",
            "14973       <1H OCEAN  \n",
            "3785           INLAND  \n",
            "14689          INLAND  \n",
            "20507      NEAR OCEAN  \n"
          ]
        }
      ]
    },
    {
      "cell_type": "markdown",
      "metadata": {
        "id": "j83cLsTiUjrl"
      },
      "source": [
        "# Discover and Visualize the Data to Gain Insights"
      ]
    },
    {
      "cell_type": "code",
      "execution_count": 80,
      "metadata": {
        "id": "V3l5aXu2Ujrl"
      },
      "outputs": [],
      "source": [
        "housing = strat_train_set.copy()"
      ]
    },
    {
      "cell_type": "markdown",
      "metadata": {
        "id": "e3dCN0GBUjrm"
      },
      "source": [
        "## Visualizing Geographical Data"
      ]
    },
    {
      "cell_type": "code",
      "source": [
        "# 可视化地理数据\n",
        "housing.plot(kind=\"scatter\", x=\"longitude\", y=\"latitude\", grid=True)\n",
        "save_fig(\"bad_visualization_plot\")\n",
        "plt.show()"
      ],
      "metadata": {
        "id": "6EEIbO2-SHuM",
        "outputId": "d34976a2-5b45-4392-e730-db26bbbc1d4f",
        "colab": {
          "base_uri": "https://localhost:8080/",
          "height": 474
        }
      },
      "execution_count": 81,
      "outputs": [
        {
          "output_type": "display_data",
          "data": {
            "text/plain": [
              "<Figure size 640x480 with 1 Axes>"
            ],
            "image/png": "[encoded data removed]"
          },
          "metadata": {}
        }
      ]
    },
    {
      "cell_type": "code",
      "source": [
        "# 高密度区域\n",
        "housing.plot(kind='scatter', x=\"longitude\", y=\"latitude\", grid=True, alpha=0.2)"
      ],
      "metadata": {
        "id": "24whQoNZSy-3",
        "outputId": "5aa08855-382b-4802-f922-681fd4398a3e",
        "colab": {
          "base_uri": "https://localhost:8080/",
          "height": 472
        }
      },
      "execution_count": 82,
      "outputs": [
        {
          "output_type": "execute_result",
          "data": {
            "text/plain": [
              "<Axes: xlabel='longitude', ylabel='latitude'>"
            ]
          },
          "metadata": {},
          "execution_count": 82
        },
        {
          "output_type": "display_data",
          "data": {
            "text/plain": [
              "<Figure size 640x480 with 1 Axes>"
            ],
            "image/png": "[encoded data removed]"
          },
          "metadata": {}
        }
      ]
    },
    {
      "cell_type": "code",
      "execution_count": 83,
      "metadata": {
        "id": "8wxhGMJlUjrm",
        "outputId": "e453a2ba-96a7-446b-fe61-2c9ddaba8f60",
        "colab": {
          "base_uri": "https://localhost:8080/",
          "height": 694
        }
      },
      "outputs": [
        {
          "output_type": "display_data",
          "data": {
            "text/plain": [
              "<Figure size 1000x700 with 2 Axes>"
            ],
            "image/png": "[encoded data removed]"
          },
          "metadata": {}
        }
      ],
      "source": [
        "housing.plot(kind=\"scatter\", x=\"longitude\", y=\"latitude\", grid=True,\n",
        "             s=housing[\"population\"] / 100, label=\"population\",\n",
        "             c=\"median_house_value\", cmap=\"jet\", colorbar=True,\n",
        "             legend=True, sharex=False, figsize=(10, 7))\n",
        "save_fig(\"housing_prices_scatterplot\")  # extra code\n",
        "plt.show()"
      ]
    },
    {
      "cell_type": "markdown",
      "metadata": {
        "id": "aj5CscvyUjrm"
      },
      "source": [
        "The argument `sharex=False` fixes a display bug: without it, the x-axis values and label are not displayed (see: https://github.com/pandas-dev/pandas/issues/10611)."
      ]
    },
    {
      "cell_type": "code",
      "source": [
        "# 每户人口\n",
        "housing[\"rooms_per_house\"] = housing[\"total_rooms\"] / housing[\"households\"]\n",
        "housing[\"bedrooms_ratio\"] = housing[\"total_bedrooms\"] / housing[\"total_rooms\"]\n",
        "housing[\"people_per_house\"] = housing[\"population\"] / housing[\"households\"]\n",
        "housing = housing.drop(columns=[\"ocean_proximity\"])\n",
        "corr_matrix = housing.corr()\n",
        "corr_matrix[\"median_house_value\"].sort_values(ascending=False)"
      ],
      "metadata": {
        "id": "4FGsjxilwIcs",
        "outputId": "95cab6c7-26e9-41c5-c665-e854432f6187",
        "colab": {
          "base_uri": "https://localhost:8080/",
          "height": 460
        }
      },
      "execution_count": 94,
      "outputs": [
        {
          "output_type": "execute_result",
          "data": {
            "text/plain": [
              "median_house_value    1.000000\n",
              "median_income         0.688380\n",
              "rooms_per_house       0.143663\n",
              "total_rooms           0.137455\n",
              "housing_median_age    0.102175\n",
              "households            0.071426\n",
              "total_bedrooms        0.054635\n",
              "population           -0.020153\n",
              "people_per_house     -0.038224\n",
              "longitude            -0.050859\n",
              "latitude             -0.139584\n",
              "bedrooms_ratio       -0.256397\n",
              "Name: median_house_value, dtype: float64"
            ],
            "text/html": [
              "<div>\n",
              "<style scoped>\n",
              "    .dataframe tbody tr th:only-of-type {\n",
              "        vertical-align: middle;\n",
              "    }\n",
              "\n",
              "    .dataframe tbody tr th {\n",
              "        vertical-align: top;\n",
              "    }\n",
              "\n",
              "    .dataframe thead th {\n",
              "        text-align: right;\n",
              "    }\n",
              "</style>\n",
              "<table border=\"1\" class=\"dataframe\">\n",
              "  <thead>\n",
              "    <tr style=\"text-align: right;\">\n",
              "      <th></th>\n",
              "      <th>median_house_value</th>\n",
              "    </tr>\n",
              "  </thead>\n",
              "  <tbody>\n",
              "    <tr>\n",
              "      <th>median_house_value</th>\n",
              "      <td>1.000000</td>\n",
              "    </tr>\n",
              "    <tr>\n",
              "      <th>median_income</th>\n",
              "      <td>0.688380</td>\n",
              "    </tr>\n",
              "    <tr>\n",
              "      <th>rooms_per_house</th>\n",
              "      <td>0.143663</td>\n",
              "    </tr>\n",
              "    <tr>\n",
              "      <th>total_rooms</th>\n",
              "      <td>0.137455</td>\n",
              "    </tr>\n",
              "    <tr>\n",
              "      <th>housing_median_age</th>\n",
              "      <td>0.102175</td>\n",
              "    </tr>\n",
              "    <tr>\n",
              "      <th>households</th>\n",
              "      <td>0.071426</td>\n",
              "    </tr>\n",
              "    <tr>\n",
              "      <th>total_bedrooms</th>\n",
              "      <td>0.054635</td>\n",
              "    </tr>\n",
              "    <tr>\n",
              "      <th>population</th>\n",
              "      <td>-0.020153</td>\n",
              "    </tr>\n",
              "    <tr>\n",
              "      <th>people_per_house</th>\n",
              "      <td>-0.038224</td>\n",
              "    </tr>\n",
              "    <tr>\n",
              "      <th>longitude</th>\n",
              "      <td>-0.050859</td>\n",
              "    </tr>\n",
              "    <tr>\n",
              "      <th>latitude</th>\n",
              "      <td>-0.139584</td>\n",
              "    </tr>\n",
              "    <tr>\n",
              "      <th>bedrooms_ratio</th>\n",
              "      <td>-0.256397</td>\n",
              "    </tr>\n",
              "  </tbody>\n",
              "</table>\n",
              "</div><br><label><b>dtype:</b> float64</label>"
            ]
          },
          "metadata": {},
          "execution_count": 94
        }
      ]
    },
    {
      "cell_type": "markdown",
      "metadata": {
        "id": "woarwg0aUjrn"
      },
      "source": [
        "The next cell generates the first figure in the chapter (this code is not in the book). It's just a beautified version of the previous figure, with an image of California added in the background, nicer label names and no grid."
      ]
    },
    {
      "cell_type": "code",
      "execution_count": null,
      "metadata": {
        "id": "CWZoMqYGUjrn"
      },
      "outputs": [],
      "source": [
        "# extra code – this cell generates the first figure in the chapter\n",
        "\n",
        "# Download the California image\n",
        "filename = \"california.png\"\n",
        "if not (IMAGES_PATH / filename).is_file():\n",
        "    homl3_root = \"https://github.com/ageron/handson-ml3/raw/main/\"\n",
        "    url = homl3_root + \"images/end_to_end_project/\" + filename\n",
        "    print(\"Downloading\", filename)\n",
        "    urllib.request.urlretrieve(url, IMAGES_PATH / filename)\n",
        "\n",
        "housing_renamed = housing.rename(columns={\n",
        "    \"latitude\": \"Latitude\", \"longitude\": \"Longitude\",\n",
        "    \"population\": \"Population\",\n",
        "    \"median_house_value\": \"Median house value (ᴜsᴅ)\"})\n",
        "housing_renamed.plot(\n",
        "             kind=\"scatter\", x=\"Longitude\", y=\"Latitude\",\n",
        "             s=housing_renamed[\"Population\"] / 100, label=\"Population\",\n",
        "             c=\"Median house value (ᴜsᴅ)\", cmap=\"jet\", colorbar=True,\n",
        "             legend=True, sharex=False, figsize=(10, 7))\n",
        "\n",
        "california_img = plt.imread(IMAGES_PATH / filename)\n",
        "axis = -124.55, -113.95, 32.45, 42.05\n",
        "plt.axis(axis)\n",
        "plt.imshow(california_img, extent=axis)\n",
        "\n",
        "save_fig(\"california_housing_prices_plot\")\n",
        "plt.show()"
      ]
    },
    {
      "cell_type": "markdown",
      "metadata": {
        "id": "hhcOPoLMUjrn"
      },
      "source": [
        "## Looking for Correlations"
      ]
    },
    {
      "cell_type": "markdown",
      "metadata": {
        "id": "Zc-_ZUYiUjro"
      },
      "source": [
        "Note: since Pandas 2.0.0, the `numeric_only` argument defaults to `False`, so we need to set it explicitly to True to avoid an error."
      ]
    },
    {
      "cell_type": "code",
      "execution_count": null,
      "metadata": {
        "id": "4f3c9LqIUjro"
      },
      "outputs": [],
      "source": [
        "corr_matrix = housing.corr(numeric_only=True)"
      ]
    },
    {
      "cell_type": "code",
      "execution_count": null,
      "metadata": {
        "id": "SejlYspYUjro"
      },
      "outputs": [],
      "source": [
        "corr_matrix[\"median_house_value\"].sort_values(ascending=False)"
      ]
    },
    {
      "cell_type": "code",
      "execution_count": null,
      "metadata": {
        "id": "WW3_pQ6cUjrp"
      },
      "outputs": [],
      "source": [
        "from pandas.plotting import scatter_matrix\n",
        "\n",
        "attributes = [\"median_house_value\", \"median_income\", \"total_rooms\",\n",
        "              \"housing_median_age\"]\n",
        "scatter_matrix(housing[attributes], figsize=(12, 8))\n",
        "save_fig(\"scatter_matrix_plot\")  # extra code\n",
        "plt.show()"
      ]
    },
    {
      "cell_type": "code",
      "execution_count": null,
      "metadata": {
        "id": "pnGUvof1Ujrp"
      },
      "outputs": [],
      "source": [
        "housing.plot(kind=\"scatter\", x=\"median_income\", y=\"median_house_value\",\n",
        "             alpha=0.1, grid=True)\n",
        "save_fig(\"income_vs_house_value_scatterplot\")  # extra code\n",
        "plt.show()"
      ]
    },
    {
      "cell_type": "markdown",
      "metadata": {
        "id": "VtFU_z--Ujrq"
      },
      "source": [
        "## Experimenting with Attribute Combinations"
      ]
    },
    {
      "cell_type": "code",
      "execution_count": null,
      "metadata": {
        "id": "mXH6isFhUjrq"
      },
      "outputs": [],
      "source": [
        "housing[\"rooms_per_house\"] = housing[\"total_rooms\"] / housing[\"households\"]\n",
        "housing[\"bedrooms_ratio\"] = housing[\"total_bedrooms\"] / housing[\"total_rooms\"]\n",
        "housing[\"people_per_house\"] = housing[\"population\"] / housing[\"households\"]"
      ]
    },
    {
      "cell_type": "code",
      "execution_count": null,
      "metadata": {
        "id": "cojxMqe7Ujrq"
      },
      "outputs": [],
      "source": [
        "corr_matrix = housing.corr(numeric_only=True)\n",
        "corr_matrix[\"median_house_value\"].sort_values(ascending=False)"
      ]
    },
    {
      "cell_type": "markdown",
      "metadata": {
        "id": "e_hy8sLiUjrr"
      },
      "source": [
        "# Prepare the Data for Machine Learning Algorithms"
      ]
    },
    {
      "cell_type": "markdown",
      "metadata": {
        "id": "gXOisRNoUjrr"
      },
      "source": [
        "Let's revert to the original training set and separate the target (note that `strat_train_set.drop()` creates a copy of `strat_train_set` without the column, it doesn't actually modify `strat_train_set` itself, unless you pass `inplace=True`):"
      ]
    },
    {
      "cell_type": "code",
      "execution_count": null,
      "metadata": {
        "id": "c1vkXLvUUjrr"
      },
      "outputs": [],
      "source": [
        "housing = strat_train_set.drop(\"median_house_value\", axis=1)\n",
        "housing_labels = strat_train_set[\"median_house_value\"].copy()"
      ]
    },
    {
      "cell_type": "markdown",
      "metadata": {
        "id": "5YpcOQTFUjrr"
      },
      "source": [
        "## Data Cleaning"
      ]
    },
    {
      "cell_type": "markdown",
      "metadata": {
        "id": "dyZRhmSyUjrr"
      },
      "source": [
        "In the book 3 options are listed to handle the NaN values:\n",
        "\n",
        "```python\n",
        "housing.dropna(subset=[\"total_bedrooms\"], inplace=True)    # option 1\n",
        "\n",
        "housing.drop(\"total_bedrooms\", axis=1)       # option 2\n",
        "\n",
        "median = housing[\"total_bedrooms\"].median()  # option 3\n",
        "housing[\"total_bedrooms\"].fillna(median, inplace=True)\n",
        "```\n",
        "\n",
        "For each option, we'll create a copy of `housing` and work on that copy to avoid breaking `housing`. We'll also show the output of each option, but filtering on the rows that originally contained a NaN value."
      ]
    },
    {
      "cell_type": "code",
      "execution_count": null,
      "metadata": {
        "id": "-LI-dou5Ujrs"
      },
      "outputs": [],
      "source": [
        "null_rows_idx = housing.isnull().any(axis=1)\n",
        "housing.loc[null_rows_idx].head()"
      ]
    },
    {
      "cell_type": "code",
      "execution_count": null,
      "metadata": {
        "id": "Ze6NqYIeUjrs"
      },
      "outputs": [],
      "source": [
        "housing_option1 = housing.copy()\n",
        "\n",
        "housing_option1.dropna(subset=[\"total_bedrooms\"], inplace=True)  # option 1\n",
        "\n",
        "housing_option1.loc[null_rows_idx].head()"
      ]
    },
    {
      "cell_type": "code",
      "execution_count": null,
      "metadata": {
        "id": "nCZxQ2jGUjrs"
      },
      "outputs": [],
      "source": [
        "housing_option2 = housing.copy()\n",
        "\n",
        "housing_option2.drop(\"total_bedrooms\", axis=1, inplace=True)  # option 2\n",
        "\n",
        "housing_option2.loc[null_rows_idx].head()"
      ]
    },
    {
      "cell_type": "code",
      "execution_count": null,
      "metadata": {
        "id": "IuXZGQHcUjrt"
      },
      "outputs": [],
      "source": [
        "housing_option3 = housing.copy()\n",
        "\n",
        "median = housing[\"total_bedrooms\"].median()\n",
        "housing_option3[\"total_bedrooms\"].fillna(median, inplace=True)  # option 3\n",
        "\n",
        "housing_option3.loc[null_rows_idx].head()"
      ]
    },
    {
      "cell_type": "code",
      "execution_count": null,
      "metadata": {
        "id": "mQ0Pi0f4Ujrt"
      },
      "outputs": [],
      "source": [
        "from sklearn.impute import SimpleImputer\n",
        "\n",
        "imputer = SimpleImputer(strategy=\"median\")"
      ]
    },
    {
      "cell_type": "markdown",
      "metadata": {
        "id": "meNN-MaiUjrt"
      },
      "source": [
        "Separating out the numerical attributes to use the `\"median\"` strategy (as it cannot be calculated on text attributes like `ocean_proximity`):"
      ]
    },
    {
      "cell_type": "code",
      "execution_count": null,
      "metadata": {
        "id": "wiv_pFUtUjrt"
      },
      "outputs": [],
      "source": [
        "housing_num = housing.select_dtypes(include=[np.number])"
      ]
    },
    {
      "cell_type": "code",
      "execution_count": null,
      "metadata": {
        "id": "NDy4BZE5Ujru"
      },
      "outputs": [],
      "source": [
        "imputer.fit(housing_num)"
      ]
    },
    {
      "cell_type": "code",
      "execution_count": null,
      "metadata": {
        "id": "V38771uEUjru"
      },
      "outputs": [],
      "source": [
        "imputer.statistics_"
      ]
    },
    {
      "cell_type": "markdown",
      "metadata": {
        "id": "-bPRsp-hUjru"
      },
      "source": [
        "Check that this is the same as manually computing the median of each attribute:"
      ]
    },
    {
      "cell_type": "code",
      "execution_count": null,
      "metadata": {
        "id": "kaNPIFIzUjru"
      },
      "outputs": [],
      "source": [
        "housing_num.median().values"
      ]
    },
    {
      "cell_type": "markdown",
      "metadata": {
        "id": "P3X2BOjFUjrv"
      },
      "source": [
        "Transform the training set:"
      ]
    },
    {
      "cell_type": "code",
      "execution_count": null,
      "metadata": {
        "id": "CNweBvJBUjrv"
      },
      "outputs": [],
      "source": [
        "X = imputer.transform(housing_num)"
      ]
    },
    {
      "cell_type": "code",
      "execution_count": null,
      "metadata": {
        "id": "Q8eX4xOpUjrv"
      },
      "outputs": [],
      "source": [
        "imputer.feature_names_in_"
      ]
    },
    {
      "cell_type": "code",
      "execution_count": null,
      "metadata": {
        "id": "lefNZcIfUjrw"
      },
      "outputs": [],
      "source": [
        "housing_tr = pd.DataFrame(X, columns=housing_num.columns,\n",
        "                          index=housing_num.index)"
      ]
    },
    {
      "cell_type": "code",
      "execution_count": null,
      "metadata": {
        "id": "wMJMs2zBUjrw"
      },
      "outputs": [],
      "source": [
        "housing_tr.loc[null_rows_idx].head()"
      ]
    },
    {
      "cell_type": "code",
      "execution_count": null,
      "metadata": {
        "id": "QFk1XF4pUjrx"
      },
      "outputs": [],
      "source": [
        "imputer.strategy"
      ]
    },
    {
      "cell_type": "code",
      "execution_count": null,
      "metadata": {
        "id": "H-25VFacUjrx"
      },
      "outputs": [],
      "source": [
        "housing_tr = pd.DataFrame(X, columns=housing_num.columns,\n",
        "                          index=housing_num.index)"
      ]
    },
    {
      "cell_type": "code",
      "execution_count": null,
      "metadata": {
        "id": "-Zfhin2yUjrx"
      },
      "outputs": [],
      "source": [
        "housing_tr.loc[null_rows_idx].head()  # not shown in the book"
      ]
    },
    {
      "cell_type": "code",
      "execution_count": null,
      "metadata": {
        "id": "tHaiXHthUjry"
      },
      "outputs": [],
      "source": [
        "#from sklearn import set_config\n",
        "#\n",
        "# set_config(transform_output=\"pandas\")  # scikit-learn >= 1.2"
      ]
    },
    {
      "cell_type": "markdown",
      "metadata": {
        "id": "U7LJttigUjry"
      },
      "source": [
        "Now let's drop some outliers:"
      ]
    },
    {
      "cell_type": "code",
      "execution_count": null,
      "metadata": {
        "id": "tjrRz8zDUjry"
      },
      "outputs": [],
      "source": [
        "from sklearn.ensemble import IsolationForest\n",
        "\n",
        "isolation_forest = IsolationForest(random_state=42)\n",
        "outlier_pred = isolation_forest.fit_predict(X)"
      ]
    },
    {
      "cell_type": "code",
      "execution_count": null,
      "metadata": {
        "id": "pa7_99m7Ujrz"
      },
      "outputs": [],
      "source": [
        "outlier_pred"
      ]
    },
    {
      "cell_type": "markdown",
      "metadata": {
        "id": "Oy4h4Y3TUjrz"
      },
      "source": [
        "If you wanted to drop outliers, you would run the following code:"
      ]
    },
    {
      "cell_type": "code",
      "execution_count": null,
      "metadata": {
        "id": "B9Y9A5voUjrz"
      },
      "outputs": [],
      "source": [
        "#housing = housing.iloc[outlier_pred == 1]\n",
        "#housing_labels = housing_labels.iloc[outlier_pred == 1]"
      ]
    },
    {
      "cell_type": "markdown",
      "metadata": {
        "id": "FT1sry59Ujrz"
      },
      "source": [
        "## Handling Text and Categorical Attributes"
      ]
    },
    {
      "cell_type": "markdown",
      "metadata": {
        "id": "zTpCUBdhUjr0"
      },
      "source": [
        "Now let's preprocess the categorical input feature, `ocean_proximity`:"
      ]
    },
    {
      "cell_type": "code",
      "execution_count": null,
      "metadata": {
        "id": "JaabJPA8Ujr0"
      },
      "outputs": [],
      "source": [
        "housing_cat = housing[[\"ocean_proximity\"]]\n",
        "housing_cat.head(8)"
      ]
    },
    {
      "cell_type": "code",
      "execution_count": null,
      "metadata": {
        "id": "2D_W8dvsUjr0"
      },
      "outputs": [],
      "source": [
        "from sklearn.preprocessing import OrdinalEncoder\n",
        "\n",
        "ordinal_encoder = OrdinalEncoder()\n",
        "housing_cat_encoded = ordinal_encoder.fit_transform(housing_cat)"
      ]
    },
    {
      "cell_type": "code",
      "execution_count": null,
      "metadata": {
        "id": "tr-XMbcsUjr0"
      },
      "outputs": [],
      "source": [
        "housing_cat_encoded[:8]"
      ]
    },
    {
      "cell_type": "code",
      "execution_count": null,
      "metadata": {
        "id": "dhkHHj4jUjr0"
      },
      "outputs": [],
      "source": [
        "ordinal_encoder.categories_"
      ]
    },
    {
      "cell_type": "code",
      "execution_count": null,
      "metadata": {
        "id": "bKtGajnuUjr1"
      },
      "outputs": [],
      "source": [
        "from sklearn.preprocessing import OneHotEncoder\n",
        "\n",
        "cat_encoder = OneHotEncoder()\n",
        "housing_cat_1hot = cat_encoder.fit_transform(housing_cat)"
      ]
    },
    {
      "cell_type": "code",
      "execution_count": null,
      "metadata": {
        "id": "p3BPLMtTUjr1"
      },
      "outputs": [],
      "source": [
        "housing_cat_1hot"
      ]
    },
    {
      "cell_type": "markdown",
      "metadata": {
        "id": "D-qVp1HXUjr2"
      },
      "source": [
        "By default, the `OneHotEncoder` class returns a sparse array, but we can convert it to a dense array if needed by calling the `toarray()` method:"
      ]
    },
    {
      "cell_type": "code",
      "execution_count": null,
      "metadata": {
        "id": "YwAmJWCEUjr2"
      },
      "outputs": [],
      "source": [
        "housing_cat_1hot.toarray()"
      ]
    },
    {
      "cell_type": "markdown",
      "metadata": {
        "id": "QqC7KVlOUjr2"
      },
      "source": [
        "Alternatively, you can set `sparse_output=False` when creating the `OneHotEncoder` (note: the `sparse` hyperparameter was renamned to `sparse_output` in Scikit-Learn 1.2):"
      ]
    },
    {
      "cell_type": "code",
      "execution_count": null,
      "metadata": {
        "id": "U8kaFlgNUjr2"
      },
      "outputs": [],
      "source": [
        "cat_encoder = OneHotEncoder(sparse_output=False)\n",
        "housing_cat_1hot = cat_encoder.fit_transform(housing_cat)\n",
        "housing_cat_1hot"
      ]
    },
    {
      "cell_type": "code",
      "execution_count": null,
      "metadata": {
        "id": "0iSOl4zWUjr3"
      },
      "outputs": [],
      "source": [
        "cat_encoder.categories_"
      ]
    },
    {
      "cell_type": "code",
      "execution_count": null,
      "metadata": {
        "id": "XNAI-uAgUjr3"
      },
      "outputs": [],
      "source": [
        "df_test = pd.DataFrame({\"ocean_proximity\": [\"INLAND\", \"NEAR BAY\"]})\n",
        "pd.get_dummies(df_test)"
      ]
    },
    {
      "cell_type": "code",
      "execution_count": null,
      "metadata": {
        "id": "Q5ODrg6cUjr3"
      },
      "outputs": [],
      "source": [
        "cat_encoder.transform(df_test)"
      ]
    },
    {
      "cell_type": "code",
      "execution_count": null,
      "metadata": {
        "id": "Rljh8T7HUjr3"
      },
      "outputs": [],
      "source": [
        "df_test_unknown = pd.DataFrame({\"ocean_proximity\": [\"<2H OCEAN\", \"ISLAND\"]})\n",
        "pd.get_dummies(df_test_unknown)"
      ]
    },
    {
      "cell_type": "code",
      "execution_count": null,
      "metadata": {
        "id": "y274kvTqUjr3"
      },
      "outputs": [],
      "source": [
        "cat_encoder.handle_unknown = \"ignore\"\n",
        "cat_encoder.transform(df_test_unknown)"
      ]
    },
    {
      "cell_type": "code",
      "execution_count": null,
      "metadata": {
        "id": "afPDiUVpUjr4"
      },
      "outputs": [],
      "source": [
        "cat_encoder.feature_names_in_"
      ]
    },
    {
      "cell_type": "code",
      "execution_count": null,
      "metadata": {
        "id": "iV_F6vjZUjr4"
      },
      "outputs": [],
      "source": [
        "cat_encoder.get_feature_names_out()"
      ]
    },
    {
      "cell_type": "code",
      "execution_count": null,
      "metadata": {
        "id": "32sqclPvUjr5"
      },
      "outputs": [],
      "source": [
        "df_output = pd.DataFrame(cat_encoder.transform(df_test_unknown),\n",
        "                         columns=cat_encoder.get_feature_names_out(),\n",
        "                         index=df_test_unknown.index)"
      ]
    },
    {
      "cell_type": "code",
      "execution_count": null,
      "metadata": {
        "id": "AKFGeJGkUjr5"
      },
      "outputs": [],
      "source": [
        "df_output"
      ]
    },
    {
      "cell_type": "markdown",
      "metadata": {
        "id": "zjrpMa0dUjr5"
      },
      "source": [
        "## Feature Scaling"
      ]
    },
    {
      "cell_type": "code",
      "execution_count": null,
      "metadata": {
        "id": "6Al0oYnTUjr6"
      },
      "outputs": [],
      "source": [
        "from sklearn.preprocessing import MinMaxScaler\n",
        "\n",
        "min_max_scaler = MinMaxScaler(feature_range=(-1, 1))\n",
        "housing_num_min_max_scaled = min_max_scaler.fit_transform(housing_num)"
      ]
    },
    {
      "cell_type": "code",
      "execution_count": null,
      "metadata": {
        "id": "hp7hRRNGUjr6"
      },
      "outputs": [],
      "source": [
        "from sklearn.preprocessing import StandardScaler\n",
        "\n",
        "std_scaler = StandardScaler()\n",
        "housing_num_std_scaled = std_scaler.fit_transform(housing_num)"
      ]
    },
    {
      "cell_type": "code",
      "execution_count": null,
      "metadata": {
        "id": "N-CJMf1oUjr6"
      },
      "outputs": [],
      "source": [
        "# extra code – this cell generates Figure 2–17\n",
        "fig, axs = plt.subplots(1, 2, figsize=(8, 3), sharey=True)\n",
        "housing[\"population\"].hist(ax=axs[0], bins=50)\n",
        "housing[\"population\"].apply(np.log).hist(ax=axs[1], bins=50)\n",
        "axs[0].set_xlabel(\"Population\")\n",
        "axs[1].set_xlabel(\"Log of population\")\n",
        "axs[0].set_ylabel(\"Number of districts\")\n",
        "save_fig(\"long_tail_plot\")\n",
        "plt.show()"
      ]
    },
    {
      "cell_type": "markdown",
      "metadata": {
        "id": "V_ZGoGZ0Ujr7"
      },
      "source": [
        "What if we replace each value with its percentile?"
      ]
    },
    {
      "cell_type": "code",
      "execution_count": null,
      "metadata": {
        "id": "cwt87AgBUjr7"
      },
      "outputs": [],
      "source": [
        "# extra code – just shows that we get a uniform distribution\n",
        "percentiles = [np.percentile(housing[\"median_income\"], p)\n",
        "               for p in range(1, 100)]\n",
        "flattened_median_income = pd.cut(housing[\"median_income\"],\n",
        "                                 bins=[-np.inf] + percentiles + [np.inf],\n",
        "                                 labels=range(1, 100 + 1))\n",
        "flattened_median_income.hist(bins=50)\n",
        "plt.xlabel(\"Median income percentile\")\n",
        "plt.ylabel(\"Number of districts\")\n",
        "plt.show()\n",
        "# Note: incomes below the 1st percentile are labeled 1, and incomes above the\n",
        "# 99th percentile are labeled 100. This is why the distribution below ranges\n",
        "# from 1 to 100 (not 0 to 100)."
      ]
    },
    {
      "cell_type": "code",
      "execution_count": null,
      "metadata": {
        "id": "5br9rF8WUjr7"
      },
      "outputs": [],
      "source": [
        "from sklearn.metrics.pairwise import rbf_kernel\n",
        "\n",
        "age_simil_35 = rbf_kernel(housing[[\"housing_median_age\"]], [[35]], gamma=0.1)"
      ]
    },
    {
      "cell_type": "code",
      "execution_count": null,
      "metadata": {
        "id": "p8GAKeEaUjr7"
      },
      "outputs": [],
      "source": [
        "# extra code – this cell generates Figure 2–18\n",
        "\n",
        "ages = np.linspace(housing[\"housing_median_age\"].min(),\n",
        "                   housing[\"housing_median_age\"].max(),\n",
        "                   500).reshape(-1, 1)\n",
        "gamma1 = 0.1\n",
        "gamma2 = 0.03\n",
        "rbf1 = rbf_kernel(ages, [[35]], gamma=gamma1)\n",
        "rbf2 = rbf_kernel(ages, [[35]], gamma=gamma2)\n",
        "\n",
        "fig, ax1 = plt.subplots()\n",
        "\n",
        "ax1.set_xlabel(\"Housing median age\")\n",
        "ax1.set_ylabel(\"Number of districts\")\n",
        "ax1.hist(housing[\"housing_median_age\"], bins=50)\n",
        "\n",
        "ax2 = ax1.twinx()  # create a twin axis that shares the same x-axis\n",
        "color = \"blue\"\n",
        "ax2.plot(ages, rbf1, color=color, label=\"gamma = 0.10\")\n",
        "ax2.plot(ages, rbf2, color=color, label=\"gamma = 0.03\", linestyle=\"--\")\n",
        "ax2.tick_params(axis='y', labelcolor=color)\n",
        "ax2.set_ylabel(\"Age similarity\", color=color)\n",
        "\n",
        "plt.legend(loc=\"upper left\")\n",
        "save_fig(\"age_similarity_plot\")\n",
        "plt.show()"
      ]
    },
    {
      "cell_type": "code",
      "execution_count": null,
      "metadata": {
        "id": "1NfkBbZ_Ujr8"
      },
      "outputs": [],
      "source": [
        "from sklearn.linear_model import LinearRegression\n",
        "\n",
        "target_scaler = StandardScaler()\n",
        "scaled_labels = target_scaler.fit_transform(housing_labels.to_frame())\n",
        "\n",
        "model = LinearRegression()\n",
        "model.fit(housing[[\"median_income\"]], scaled_labels)\n",
        "some_new_data = housing[[\"median_income\"]].iloc[:5]  # pretend this is new data\n",
        "\n",
        "scaled_predictions = model.predict(some_new_data)\n",
        "predictions = target_scaler.inverse_transform(scaled_predictions)"
      ]
    },
    {
      "cell_type": "code",
      "execution_count": null,
      "metadata": {
        "id": "cN8ICr9QUjr8"
      },
      "outputs": [],
      "source": [
        "predictions"
      ]
    },
    {
      "cell_type": "code",
      "execution_count": null,
      "metadata": {
        "id": "bqDVIRbbUjr9"
      },
      "outputs": [],
      "source": [
        "from sklearn.compose import TransformedTargetRegressor\n",
        "\n",
        "model = TransformedTargetRegressor(LinearRegression(),\n",
        "                                   transformer=StandardScaler())\n",
        "model.fit(housing[[\"median_income\"]], housing_labels)\n",
        "predictions = model.predict(some_new_data)"
      ]
    },
    {
      "cell_type": "code",
      "execution_count": null,
      "metadata": {
        "id": "MFlGnBdcUjr9"
      },
      "outputs": [],
      "source": [
        "predictions"
      ]
    },
    {
      "cell_type": "markdown",
      "metadata": {
        "id": "EcLZt_FwUjr9"
      },
      "source": [
        "## Custom Transformers"
      ]
    },
    {
      "cell_type": "markdown",
      "metadata": {
        "id": "ovz-n9ChUjr-"
      },
      "source": [
        "To create simple transformers:"
      ]
    },
    {
      "cell_type": "code",
      "execution_count": null,
      "metadata": {
        "id": "R5z1Xh5XUjr-"
      },
      "outputs": [],
      "source": [
        "from sklearn.preprocessing import FunctionTransformer\n",
        "\n",
        "log_transformer = FunctionTransformer(np.log, inverse_func=np.exp)\n",
        "log_pop = log_transformer.transform(housing[[\"population\"]])"
      ]
    },
    {
      "cell_type": "code",
      "execution_count": null,
      "metadata": {
        "id": "o_5zQh33Ujr-"
      },
      "outputs": [],
      "source": [
        "rbf_transformer = FunctionTransformer(rbf_kernel,\n",
        "                                      kw_args=dict(Y=[[35.]], gamma=0.1))\n",
        "age_simil_35 = rbf_transformer.transform(housing[[\"housing_median_age\"]])"
      ]
    },
    {
      "cell_type": "code",
      "execution_count": null,
      "metadata": {
        "id": "PALPoEoCUjr-"
      },
      "outputs": [],
      "source": [
        "age_simil_35"
      ]
    },
    {
      "cell_type": "code",
      "execution_count": null,
      "metadata": {
        "id": "Ws3iqEfxUjr_"
      },
      "outputs": [],
      "source": [
        "sf_coords = 37.7749, -122.41\n",
        "sf_transformer = FunctionTransformer(rbf_kernel,\n",
        "                                     kw_args=dict(Y=[sf_coords], gamma=0.1))\n",
        "sf_simil = sf_transformer.transform(housing[[\"latitude\", \"longitude\"]])"
      ]
    },
    {
      "cell_type": "code",
      "execution_count": null,
      "metadata": {
        "id": "oF9m0P9UUjr_"
      },
      "outputs": [],
      "source": [
        "sf_simil"
      ]
    },
    {
      "cell_type": "code",
      "execution_count": null,
      "metadata": {
        "id": "8yib9OHWUjr_"
      },
      "outputs": [],
      "source": [
        "ratio_transformer = FunctionTransformer(lambda X: X[:, [0]] / X[:, [1]])\n",
        "ratio_transformer.transform(np.array([[1., 2.], [3., 4.]]))"
      ]
    },
    {
      "cell_type": "code",
      "execution_count": null,
      "metadata": {
        "id": "hIQMDjRCUjr_"
      },
      "outputs": [],
      "source": [
        "from sklearn.base import BaseEstimator, TransformerMixin\n",
        "from sklearn.utils.validation import check_array, check_is_fitted\n",
        "\n",
        "class StandardScalerClone(BaseEstimator, TransformerMixin):\n",
        "    def __init__(self, with_mean=True):  # no *args or **kwargs!\n",
        "        self.with_mean = with_mean\n",
        "\n",
        "    def fit(self, X, y=None):  # y is required even though we don't use it\n",
        "        X = check_array(X)  # checks that X is an array with finite float values\n",
        "        self.mean_ = X.mean(axis=0)\n",
        "        self.scale_ = X.std(axis=0)\n",
        "        self.n_features_in_ = X.shape[1]  # every estimator stores this in fit()\n",
        "        return self  # always return self!\n",
        "\n",
        "    def transform(self, X):\n",
        "        check_is_fitted(self)  # looks for learned attributes (with trailing _)\n",
        "        X = check_array(X)\n",
        "        assert self.n_features_in_ == X.shape[1]\n",
        "        if self.with_mean:\n",
        "            X = X - self.mean_\n",
        "        return X / self.scale_"
      ]
    },
    {
      "cell_type": "code",
      "execution_count": null,
      "metadata": {
        "id": "tGY3v0tiUjsA"
      },
      "outputs": [],
      "source": [
        "from sklearn.cluster import KMeans\n",
        "\n",
        "class ClusterSimilarity(BaseEstimator, TransformerMixin):\n",
        "    def __init__(self, n_clusters=10, gamma=1.0, random_state=None):\n",
        "        self.n_clusters = n_clusters\n",
        "        self.gamma = gamma\n",
        "        self.random_state = random_state\n",
        "\n",
        "    def fit(self, X, y=None, sample_weight=None):\n",
        "        self.kmeans_ = KMeans(self.n_clusters, n_init=10,\n",
        "                              random_state=self.random_state)\n",
        "        self.kmeans_.fit(X, sample_weight=sample_weight)\n",
        "        return self  # always return self!\n",
        "\n",
        "    def transform(self, X):\n",
        "        return rbf_kernel(X, self.kmeans_.cluster_centers_, gamma=self.gamma)\n",
        "\n",
        "    def get_feature_names_out(self, names=None):\n",
        "        return [f\"Cluster {i} similarity\" for i in range(self.n_clusters)]"
      ]
    },
    {
      "cell_type": "markdown",
      "metadata": {
        "id": "S9hQMExTUjsA"
      },
      "source": [
        "**Warning**:\n",
        "* There was a change in Scikit-Learn 1.3.0 which affected the random number generator for `KMeans` initialization. Therefore the results will be different than in the book if you use Scikit-Learn ≥ 1.3. That's not a problem as long as you don't expect the outputs to be perfectly identical.\n",
        "* Throughout this notebook, when `n_init` was not set when creating a `KMeans` estimator, I explicitly set it to `n_init=10` to avoid a warning about the fact that the default value for this hyperparameter will change from 10 to `\"auto\"` in Scikit-Learn 1.4."
      ]
    },
    {
      "cell_type": "code",
      "execution_count": null,
      "metadata": {
        "id": "o2aqtHGJUjsA"
      },
      "outputs": [],
      "source": [
        "cluster_simil = ClusterSimilarity(n_clusters=10, gamma=1., random_state=42)\n",
        "similarities = cluster_simil.fit_transform(housing[[\"latitude\", \"longitude\"]],\n",
        "                                           sample_weight=housing_labels)"
      ]
    },
    {
      "cell_type": "code",
      "execution_count": null,
      "metadata": {
        "id": "BKcVkqbbUjsA"
      },
      "outputs": [],
      "source": [
        "similarities[:3].round(2)"
      ]
    },
    {
      "cell_type": "code",
      "execution_count": null,
      "metadata": {
        "id": "QsUX5wb7UjsB"
      },
      "outputs": [],
      "source": [
        "# extra code – this cell generates Figure 2–19\n",
        "\n",
        "housing_renamed = housing.rename(columns={\n",
        "    \"latitude\": \"Latitude\", \"longitude\": \"Longitude\",\n",
        "    \"population\": \"Population\",\n",
        "    \"median_house_value\": \"Median house value (ᴜsᴅ)\"})\n",
        "housing_renamed[\"Max cluster similarity\"] = similarities.max(axis=1)\n",
        "\n",
        "housing_renamed.plot(kind=\"scatter\", x=\"Longitude\", y=\"Latitude\", grid=True,\n",
        "                     s=housing_renamed[\"Population\"] / 100, label=\"Population\",\n",
        "                     c=\"Max cluster similarity\",\n",
        "                     cmap=\"jet\", colorbar=True,\n",
        "                     legend=True, sharex=False, figsize=(10, 7))\n",
        "plt.plot(cluster_simil.kmeans_.cluster_centers_[:, 1],\n",
        "         cluster_simil.kmeans_.cluster_centers_[:, 0],\n",
        "         linestyle=\"\", color=\"black\", marker=\"X\", markersize=20,\n",
        "         label=\"Cluster centers\")\n",
        "plt.legend(loc=\"upper right\")\n",
        "save_fig(\"district_cluster_plot\")\n",
        "plt.show()"
      ]
    },
    {
      "cell_type": "markdown",
      "metadata": {
        "id": "KdbyQtXMUjsB"
      },
      "source": [
        "## Transformation Pipelines"
      ]
    },
    {
      "cell_type": "markdown",
      "metadata": {
        "id": "m7QbWdEKUjsB"
      },
      "source": [
        "Now let's build a pipeline to preprocess the numerical attributes:"
      ]
    },
    {
      "cell_type": "code",
      "execution_count": null,
      "metadata": {
        "id": "fMX2-Yk_UjsC"
      },
      "outputs": [],
      "source": [
        "from sklearn.pipeline import Pipeline\n",
        "\n",
        "num_pipeline = Pipeline([\n",
        "    (\"impute\", SimpleImputer(strategy=\"median\")),\n",
        "    (\"standardize\", StandardScaler()),\n",
        "])"
      ]
    },
    {
      "cell_type": "code",
      "execution_count": null,
      "metadata": {
        "id": "Or_W7ArIUjsC"
      },
      "outputs": [],
      "source": [
        "from sklearn.pipeline import make_pipeline\n",
        "\n",
        "num_pipeline = make_pipeline(SimpleImputer(strategy=\"median\"), StandardScaler())"
      ]
    },
    {
      "cell_type": "code",
      "execution_count": null,
      "metadata": {
        "id": "pFy2c-v1UjsC"
      },
      "outputs": [],
      "source": [
        "from sklearn import set_config\n",
        "\n",
        "set_config(display='diagram')\n",
        "\n",
        "num_pipeline"
      ]
    },
    {
      "cell_type": "code",
      "execution_count": null,
      "metadata": {
        "id": "5kT49S8XUjsC"
      },
      "outputs": [],
      "source": [
        "housing_num_prepared = num_pipeline.fit_transform(housing_num)\n",
        "housing_num_prepared[:2].round(2)"
      ]
    },
    {
      "cell_type": "code",
      "execution_count": null,
      "metadata": {
        "id": "0ak42G6ZUjsD"
      },
      "outputs": [],
      "source": [
        "def monkey_patch_get_signature_names_out():\n",
        "    \"\"\"Monkey patch some classes which did not handle get_feature_names_out()\n",
        "       correctly in Scikit-Learn 1.0.*.\"\"\"\n",
        "    from inspect import Signature, signature, Parameter\n",
        "    import pandas as pd\n",
        "    from sklearn.impute import SimpleImputer\n",
        "    from sklearn.pipeline import make_pipeline, Pipeline\n",
        "    from sklearn.preprocessing import FunctionTransformer, StandardScaler\n",
        "\n",
        "    default_get_feature_names_out = StandardScaler.get_feature_names_out\n",
        "\n",
        "    if not hasattr(SimpleImputer, \"get_feature_names_out\"):\n",
        "      print(\"Monkey-patching SimpleImputer.get_feature_names_out()\")\n",
        "      SimpleImputer.get_feature_names_out = default_get_feature_names_out\n",
        "\n",
        "    if not hasattr(FunctionTransformer, \"get_feature_names_out\"):\n",
        "        print(\"Monkey-patching FunctionTransformer.get_feature_names_out()\")\n",
        "        orig_init = FunctionTransformer.__init__\n",
        "        orig_sig = signature(orig_init)\n",
        "\n",
        "        def __init__(*args, feature_names_out=None, **kwargs):\n",
        "            orig_sig.bind(*args, **kwargs)\n",
        "            orig_init(*args, **kwargs)\n",
        "            args[0].feature_names_out = feature_names_out\n",
        "\n",
        "        __init__.__signature__ = Signature(\n",
        "            list(signature(orig_init).parameters.values()) + [\n",
        "                Parameter(\"feature_names_out\", Parameter.KEYWORD_ONLY)])\n",
        "\n",
        "        def get_feature_names_out(self, names=None):\n",
        "            if callable(self.feature_names_out):\n",
        "                return self.feature_names_out(self, names)\n",
        "            assert self.feature_names_out == \"one-to-one\"\n",
        "            return default_get_feature_names_out(self, names)\n",
        "\n",
        "        FunctionTransformer.__init__ = __init__\n",
        "        FunctionTransformer.get_feature_names_out = get_feature_names_out\n",
        "\n",
        "monkey_patch_get_signature_names_out()"
      ]
    },
    {
      "cell_type": "code",
      "execution_count": null,
      "metadata": {
        "id": "RVWULQTyUjsD"
      },
      "outputs": [],
      "source": [
        "df_housing_num_prepared = pd.DataFrame(\n",
        "    housing_num_prepared, columns=num_pipeline.get_feature_names_out(),\n",
        "    index=housing_num.index)"
      ]
    },
    {
      "cell_type": "code",
      "execution_count": null,
      "metadata": {
        "id": "zx8FHvFkUjsE"
      },
      "outputs": [],
      "source": [
        "df_housing_num_prepared.head(2)  # extra code"
      ]
    },
    {
      "cell_type": "code",
      "execution_count": null,
      "metadata": {
        "id": "9WfxfkjDUjsE"
      },
      "outputs": [],
      "source": [
        "num_pipeline.steps"
      ]
    },
    {
      "cell_type": "code",
      "execution_count": null,
      "metadata": {
        "id": "yjdNajHyUjsE"
      },
      "outputs": [],
      "source": [
        "num_pipeline[1]"
      ]
    },
    {
      "cell_type": "code",
      "execution_count": null,
      "metadata": {
        "id": "9EVBrQ-jUjsK"
      },
      "outputs": [],
      "source": [
        "num_pipeline[:-1]"
      ]
    },
    {
      "cell_type": "code",
      "execution_count": null,
      "metadata": {
        "id": "qZNmQ-GjUjsK"
      },
      "outputs": [],
      "source": [
        "num_pipeline.named_steps[\"simpleimputer\"]"
      ]
    },
    {
      "cell_type": "code",
      "execution_count": null,
      "metadata": {
        "id": "r1uPtIVmUjsL"
      },
      "outputs": [],
      "source": [
        "num_pipeline.set_params(simpleimputer__strategy=\"median\")"
      ]
    },
    {
      "cell_type": "code",
      "execution_count": null,
      "metadata": {
        "id": "oEFQJYnwUjsL"
      },
      "outputs": [],
      "source": [
        "from sklearn.compose import ColumnTransformer\n",
        "\n",
        "num_attribs = [\"longitude\", \"latitude\", \"housing_median_age\", \"total_rooms\",\n",
        "               \"total_bedrooms\", \"population\", \"households\", \"median_income\"]\n",
        "cat_attribs = [\"ocean_proximity\"]\n",
        "\n",
        "cat_pipeline = make_pipeline(\n",
        "    SimpleImputer(strategy=\"most_frequent\"),\n",
        "    OneHotEncoder(handle_unknown=\"ignore\"))\n",
        "\n",
        "preprocessing = ColumnTransformer([\n",
        "    (\"num\", num_pipeline, num_attribs),\n",
        "    (\"cat\", cat_pipeline, cat_attribs),\n",
        "])"
      ]
    },
    {
      "cell_type": "code",
      "execution_count": null,
      "metadata": {
        "id": "J099QDYaUjsL"
      },
      "outputs": [],
      "source": [
        "from sklearn.compose import make_column_selector, make_column_transformer\n",
        "\n",
        "preprocessing = make_column_transformer(\n",
        "    (num_pipeline, make_column_selector(dtype_include=np.number)),\n",
        "    (cat_pipeline, make_column_selector(dtype_include=object)),\n",
        ")"
      ]
    },
    {
      "cell_type": "code",
      "execution_count": null,
      "metadata": {
        "id": "GArtgMw7UjsL"
      },
      "outputs": [],
      "source": [
        "housing_prepared = preprocessing.fit_transform(housing)"
      ]
    },
    {
      "cell_type": "code",
      "execution_count": null,
      "metadata": {
        "id": "LOwdf_PxUjsM"
      },
      "outputs": [],
      "source": [
        "# extra code – shows that we can get a DataFrame out if we want\n",
        "housing_prepared_fr = pd.DataFrame(\n",
        "    housing_prepared,\n",
        "    columns=preprocessing.get_feature_names_out(),\n",
        "    index=housing.index)\n",
        "housing_prepared_fr.head(2)"
      ]
    },
    {
      "cell_type": "code",
      "execution_count": null,
      "metadata": {
        "id": "JpNPiirRUjsM"
      },
      "outputs": [],
      "source": [
        "def column_ratio(X):\n",
        "    return X[:, [0]] / X[:, [1]]\n",
        "\n",
        "def ratio_name(function_transformer, feature_names_in):\n",
        "    return [\"ratio\"]  # feature names out\n",
        "\n",
        "def ratio_pipeline():\n",
        "    return make_pipeline(\n",
        "        SimpleImputer(strategy=\"median\"),\n",
        "        FunctionTransformer(column_ratio, feature_names_out=ratio_name),\n",
        "        StandardScaler())\n",
        "\n",
        "log_pipeline = make_pipeline(\n",
        "    SimpleImputer(strategy=\"median\"),\n",
        "    FunctionTransformer(np.log, feature_names_out=\"one-to-one\"),\n",
        "    StandardScaler())\n",
        "cluster_simil = ClusterSimilarity(n_clusters=10, gamma=1., random_state=42)\n",
        "default_num_pipeline = make_pipeline(SimpleImputer(strategy=\"median\"),\n",
        "                                     StandardScaler())\n",
        "preprocessing = ColumnTransformer([\n",
        "        (\"bedrooms\", ratio_pipeline(), [\"total_bedrooms\", \"total_rooms\"]),\n",
        "        (\"rooms_per_house\", ratio_pipeline(), [\"total_rooms\", \"households\"]),\n",
        "        (\"people_per_house\", ratio_pipeline(), [\"population\", \"households\"]),\n",
        "        (\"log\", log_pipeline, [\"total_bedrooms\", \"total_rooms\", \"population\",\n",
        "                               \"households\", \"median_income\"]),\n",
        "        (\"geo\", cluster_simil, [\"latitude\", \"longitude\"]),\n",
        "        (\"cat\", cat_pipeline, make_column_selector(dtype_include=object)),\n",
        "    ],\n",
        "    remainder=default_num_pipeline)  # one column remaining: housing_median_age"
      ]
    },
    {
      "cell_type": "code",
      "execution_count": null,
      "metadata": {
        "id": "j4YXUxkCUjsM"
      },
      "outputs": [],
      "source": [
        "housing_prepared = preprocessing.fit_transform(housing)\n",
        "housing_prepared.shape"
      ]
    },
    {
      "cell_type": "code",
      "execution_count": null,
      "metadata": {
        "id": "KZrdj2xwUjsM"
      },
      "outputs": [],
      "source": [
        "preprocessing.get_feature_names_out()"
      ]
    },
    {
      "cell_type": "markdown",
      "metadata": {
        "id": "gjZyyIPTUjsN"
      },
      "source": [
        "# Select and Train a Model"
      ]
    },
    {
      "cell_type": "markdown",
      "metadata": {
        "id": "VKfDwjQOUjsN"
      },
      "source": [
        "## Training and Evaluating on the Training Set"
      ]
    },
    {
      "cell_type": "code",
      "execution_count": null,
      "metadata": {
        "id": "ossnXW5WUjsN"
      },
      "outputs": [],
      "source": [
        "from sklearn.linear_model import LinearRegression\n",
        "\n",
        "lin_reg = make_pipeline(preprocessing, LinearRegression())\n",
        "lin_reg.fit(housing, housing_labels)"
      ]
    },
    {
      "cell_type": "markdown",
      "metadata": {
        "id": "q7fXXpbTUjsN"
      },
      "source": [
        "Let's try the full preprocessing pipeline on a few training instances:"
      ]
    },
    {
      "cell_type": "code",
      "execution_count": null,
      "metadata": {
        "id": "Y8Y5x90KUjsN"
      },
      "outputs": [],
      "source": [
        "housing_predictions = lin_reg.predict(housing)\n",
        "housing_predictions[:5].round(-2)  # -2 = rounded to the nearest hundred"
      ]
    },
    {
      "cell_type": "markdown",
      "metadata": {
        "id": "cyuQhzxgUjsO"
      },
      "source": [
        "Compare against the actual values:"
      ]
    },
    {
      "cell_type": "code",
      "execution_count": null,
      "metadata": {
        "id": "s7gcURiJUjsO"
      },
      "outputs": [],
      "source": [
        "housing_labels.iloc[:5].values"
      ]
    },
    {
      "cell_type": "code",
      "execution_count": null,
      "metadata": {
        "id": "Pm2IUmjTUjsO"
      },
      "outputs": [],
      "source": [
        "# extra code – computes the error ratios discussed in the book\n",
        "error_ratios = housing_predictions[:5].round(-2) / housing_labels.iloc[:5].values - 1\n",
        "print(\", \".join([f\"{100 * ratio:.1f}%\" for ratio in error_ratios]))"
      ]
    },
    {
      "cell_type": "markdown",
      "metadata": {
        "id": "VwW_s5Y-UjsO"
      },
      "source": [
        "**Warning**: In recent versions of Scikit-Learn, you must use `root_mean_squared_error(labels, predictions)` to compute the RMSE, instead of `mean_squared_error(labels, predictions, squared=False)`. The following `try`/`except` block tries to import `root_mean_squared_error`, and if it fails it just defines it."
      ]
    },
    {
      "cell_type": "code",
      "execution_count": null,
      "metadata": {
        "id": "7ZHXtI2zUjsO"
      },
      "outputs": [],
      "source": [
        "try:\n",
        "    from sklearn.metrics import root_mean_squared_error\n",
        "except ImportError:\n",
        "    from sklearn.metrics import mean_squared_error\n",
        "\n",
        "    def root_mean_squared_error(labels, predictions):\n",
        "        return mean_squared_error(labels, predictions, squared=False)\n",
        "\n",
        "lin_rmse = root_mean_squared_error(housing_labels, housing_predictions)\n",
        "lin_rmse"
      ]
    },
    {
      "cell_type": "code",
      "execution_count": null,
      "metadata": {
        "id": "V9H16XatUjsP"
      },
      "outputs": [],
      "source": [
        "from sklearn.tree import DecisionTreeRegressor\n",
        "\n",
        "tree_reg = make_pipeline(preprocessing, DecisionTreeRegressor(random_state=42))\n",
        "tree_reg.fit(housing, housing_labels)"
      ]
    },
    {
      "cell_type": "code",
      "execution_count": null,
      "metadata": {
        "id": "zhMboxzqUjsP"
      },
      "outputs": [],
      "source": [
        "housing_predictions = tree_reg.predict(housing)\n",
        "tree_rmse = root_mean_squared_error(housing_labels, housing_predictions)\n",
        "tree_rmse"
      ]
    },
    {
      "cell_type": "markdown",
      "metadata": {
        "id": "T7KD0mfQUjsP"
      },
      "source": [
        "## Better Evaluation Using Cross-Validation"
      ]
    },
    {
      "cell_type": "code",
      "execution_count": null,
      "metadata": {
        "id": "jEJD1u5OUjsP"
      },
      "outputs": [],
      "source": [
        "from sklearn.model_selection import cross_val_score\n",
        "\n",
        "tree_rmses = -cross_val_score(tree_reg, housing, housing_labels,\n",
        "                              scoring=\"neg_root_mean_squared_error\", cv=10)"
      ]
    },
    {
      "cell_type": "code",
      "execution_count": null,
      "metadata": {
        "id": "GPnNF2pGUjsP"
      },
      "outputs": [],
      "source": [
        "pd.Series(tree_rmses).describe()"
      ]
    },
    {
      "cell_type": "code",
      "execution_count": null,
      "metadata": {
        "id": "E49NlrmAUjsQ"
      },
      "outputs": [],
      "source": [
        "# extra code – computes the error stats for the linear model\n",
        "lin_rmses = -cross_val_score(lin_reg, housing, housing_labels,\n",
        "                              scoring=\"neg_root_mean_squared_error\", cv=10)\n",
        "pd.Series(lin_rmses).describe()"
      ]
    },
    {
      "cell_type": "markdown",
      "metadata": {
        "id": "6S432vl5UjsQ"
      },
      "source": [
        "**Warning:** the following cell may take a few minutes to run:"
      ]
    },
    {
      "cell_type": "code",
      "execution_count": null,
      "metadata": {
        "id": "Vu2ITUvrUjsQ"
      },
      "outputs": [],
      "source": [
        "from sklearn.ensemble import RandomForestRegressor\n",
        "\n",
        "forest_reg = make_pipeline(preprocessing,\n",
        "                           RandomForestRegressor(random_state=42))\n",
        "forest_rmses = -cross_val_score(forest_reg, housing, housing_labels,\n",
        "                                scoring=\"neg_root_mean_squared_error\", cv=10)"
      ]
    },
    {
      "cell_type": "code",
      "execution_count": null,
      "metadata": {
        "id": "g_VNO-U0UjsQ"
      },
      "outputs": [],
      "source": [
        "pd.Series(forest_rmses).describe()"
      ]
    },
    {
      "cell_type": "markdown",
      "metadata": {
        "id": "rG9Hyj9YUjsQ"
      },
      "source": [
        "Let's compare this RMSE measured using cross-validation (the \"validation error\") with the RMSE measured on the training set (the \"training error\"):"
      ]
    },
    {
      "cell_type": "code",
      "execution_count": null,
      "metadata": {
        "id": "BKVSlJYAUjsR"
      },
      "outputs": [],
      "source": [
        "forest_reg.fit(housing, housing_labels)\n",
        "housing_predictions = forest_reg.predict(housing)\n",
        "forest_rmse = root_mean_squared_error(housing_labels, housing_predictions)\n",
        "forest_rmse"
      ]
    },
    {
      "cell_type": "markdown",
      "metadata": {
        "id": "xIQgg6skUjsR"
      },
      "source": [
        "The training error is much lower than the validation error, which usually means that the model has overfit the training set. Another possible explanation may be that there's a mismatch between the training data and the validation data, but it's not the case here, since both came from the same dataset that we shuffled and split in two parts."
      ]
    },
    {
      "cell_type": "markdown",
      "metadata": {
        "id": "MQwxfGCjUjsR"
      },
      "source": [
        "# Fine-Tune Your Model"
      ]
    },
    {
      "cell_type": "markdown",
      "metadata": {
        "id": "lW7IxfZsUjsR"
      },
      "source": [
        "## Grid Search"
      ]
    },
    {
      "cell_type": "markdown",
      "metadata": {
        "id": "jkUXpGc9UjsR"
      },
      "source": [
        "**Warning:** the following cell may take a few minutes to run:"
      ]
    },
    {
      "cell_type": "code",
      "execution_count": null,
      "metadata": {
        "id": "nw9gn9xKUjsS"
      },
      "outputs": [],
      "source": [
        "from sklearn.model_selection import GridSearchCV\n",
        "\n",
        "full_pipeline = Pipeline([\n",
        "    (\"preprocessing\", preprocessing),\n",
        "    (\"random_forest\", RandomForestRegressor(random_state=42)),\n",
        "])\n",
        "param_grid = [\n",
        "    {'preprocessing__geo__n_clusters': [5, 8, 10],\n",
        "     'random_forest__max_features': [4, 6, 8]},\n",
        "    {'preprocessing__geo__n_clusters': [10, 15],\n",
        "     'random_forest__max_features': [6, 8, 10]},\n",
        "]\n",
        "grid_search = GridSearchCV(full_pipeline, param_grid, cv=3,\n",
        "                           scoring='neg_root_mean_squared_error')\n",
        "grid_search.fit(housing, housing_labels)"
      ]
    },
    {
      "cell_type": "markdown",
      "metadata": {
        "id": "o0pDNRbZUjsS"
      },
      "source": [
        "You can get the full list of hyperparameters available for tuning by looking at `full_pipeline.get_params().keys()`:"
      ]
    },
    {
      "cell_type": "code",
      "execution_count": null,
      "metadata": {
        "id": "q67s77GEUjsS"
      },
      "outputs": [],
      "source": [
        "# extra code – shows part of the output of get_params().keys()\n",
        "print(str(full_pipeline.get_params().keys())[:1000] + \"...\")"
      ]
    },
    {
      "cell_type": "markdown",
      "metadata": {
        "id": "cIurKKg5UjsS"
      },
      "source": [
        "The best hyperparameter combination found:"
      ]
    },
    {
      "cell_type": "code",
      "execution_count": null,
      "metadata": {
        "id": "SGRnOx0BUjsT"
      },
      "outputs": [],
      "source": [
        "grid_search.best_params_"
      ]
    },
    {
      "cell_type": "code",
      "execution_count": null,
      "metadata": {
        "id": "uKmQxkfgUjsT"
      },
      "outputs": [],
      "source": [
        "grid_search.best_estimator_"
      ]
    },
    {
      "cell_type": "markdown",
      "metadata": {
        "id": "qD-i7DEIUjsT"
      },
      "source": [
        "Let's look at the score of each hyperparameter combination tested during the grid search:"
      ]
    },
    {
      "cell_type": "code",
      "execution_count": null,
      "metadata": {
        "id": "teS8iSayUjsT"
      },
      "outputs": [],
      "source": [
        "cv_res = pd.DataFrame(grid_search.cv_results_)\n",
        "cv_res.sort_values(by=\"mean_test_score\", ascending=False, inplace=True)\n",
        "\n",
        "# extra code – these few lines of code just make the DataFrame look nicer\n",
        "cv_res = cv_res[[\"param_preprocessing__geo__n_clusters\",\n",
        "                 \"param_random_forest__max_features\", \"split0_test_score\",\n",
        "                 \"split1_test_score\", \"split2_test_score\", \"mean_test_score\"]]\n",
        "score_cols = [\"split0\", \"split1\", \"split2\", \"mean_test_rmse\"]\n",
        "cv_res.columns = [\"n_clusters\", \"max_features\"] + score_cols\n",
        "cv_res[score_cols] = -cv_res[score_cols].round().astype(np.int64)\n",
        "\n",
        "cv_res.head()"
      ]
    },
    {
      "cell_type": "markdown",
      "metadata": {
        "id": "lvkbfSbiUjsU"
      },
      "source": [
        "## Randomized Search"
      ]
    },
    {
      "cell_type": "code",
      "execution_count": null,
      "metadata": {
        "id": "4R1tcqsjUjsU"
      },
      "outputs": [],
      "source": [
        "from sklearn.experimental import enable_halving_search_cv\n",
        "from sklearn.model_selection import HalvingRandomSearchCV"
      ]
    },
    {
      "cell_type": "markdown",
      "metadata": {
        "id": "g5Yr-AN5UjsU"
      },
      "source": [
        "Try 30 (`n_iter` × `cv`) random combinations of hyperparameters:"
      ]
    },
    {
      "cell_type": "markdown",
      "metadata": {
        "id": "JlX35ycAUjsV"
      },
      "source": [
        "**Warning:** the following cell may take a few minutes to run:"
      ]
    },
    {
      "cell_type": "code",
      "execution_count": null,
      "metadata": {
        "id": "ZpaCPlERUjsV"
      },
      "outputs": [],
      "source": [
        "from sklearn.model_selection import RandomizedSearchCV\n",
        "from scipy.stats import randint\n",
        "\n",
        "param_distribs = {'preprocessing__geo__n_clusters': randint(low=3, high=50),\n",
        "                  'random_forest__max_features': randint(low=2, high=20)}\n",
        "\n",
        "rnd_search = RandomizedSearchCV(\n",
        "    full_pipeline, param_distributions=param_distribs, n_iter=10, cv=3,\n",
        "    scoring='neg_root_mean_squared_error', random_state=42)\n",
        "\n",
        "rnd_search.fit(housing, housing_labels)"
      ]
    },
    {
      "cell_type": "code",
      "execution_count": null,
      "metadata": {
        "id": "4DRQ0je9UjsW"
      },
      "outputs": [],
      "source": [
        "# extra code – displays the random search results\n",
        "cv_res = pd.DataFrame(rnd_search.cv_results_)\n",
        "cv_res.sort_values(by=\"mean_test_score\", ascending=False, inplace=True)\n",
        "cv_res = cv_res[[\"param_preprocessing__geo__n_clusters\",\n",
        "                 \"param_random_forest__max_features\", \"split0_test_score\",\n",
        "                 \"split1_test_score\", \"split2_test_score\", \"mean_test_score\"]]\n",
        "cv_res.columns = [\"n_clusters\", \"max_features\"] + score_cols\n",
        "cv_res[score_cols] = -cv_res[score_cols].round().astype(np.int64)\n",
        "cv_res.head()"
      ]
    },
    {
      "cell_type": "markdown",
      "metadata": {
        "id": "c0-lntzaUjsW"
      },
      "source": [
        "**Bonus section: how to choose the sampling distribution for a hyperparameter**\n",
        "\n",
        "* `scipy.stats.randint(a, b+1)`: for hyperparameters with _discrete_ values that range from a to b, and all values in that range seem equally likely.\n",
        "* `scipy.stats.uniform(a, b)`: this is very similar, but for _continuous_ hyperparameters.\n",
        "* `scipy.stats.geom(1 / scale)`: for discrete values, when you want to sample roughly in a given scale. E.g., with scale=1000 most samples will be in this ballpark, but ~10% of all samples will be <100 and ~10% will be >2300.\n",
        "* `scipy.stats.expon(scale)`: this is the continuous equivalent of `geom`. Just set `scale` to the most likely value.\n",
        "* `scipy.stats.loguniform(a, b)`: when you have almost no idea what the optimal hyperparameter value's scale is. If you set a=0.01 and b=100, then you're just as likely to sample a value between 0.01 and 0.1 as a value between 10 and 100.\n"
      ]
    },
    {
      "cell_type": "markdown",
      "metadata": {
        "id": "CFMw8BlTUjsW"
      },
      "source": [
        "Here are plots of the probability mass functions (for discrete variables), and probability density functions (for continuous variables) for `randint()`, `uniform()`, `geom()` and `expon()`:"
      ]
    },
    {
      "cell_type": "code",
      "execution_count": null,
      "metadata": {
        "tags": [],
        "id": "uMrvEWtcUjsW"
      },
      "outputs": [],
      "source": [
        "# extra code – plots a few distributions you can use in randomized search\n",
        "\n",
        "from scipy.stats import randint, uniform, geom, expon\n",
        "\n",
        "xs1 = np.arange(0, 7 + 1)\n",
        "randint_distrib = randint(0, 7 + 1).pmf(xs1)\n",
        "\n",
        "xs2 = np.linspace(0, 7, 500)\n",
        "uniform_distrib = uniform(0, 7).pdf(xs2)\n",
        "\n",
        "xs3 = np.arange(0, 7 + 1)\n",
        "geom_distrib = geom(0.5).pmf(xs3)\n",
        "\n",
        "xs4 = np.linspace(0, 7, 500)\n",
        "expon_distrib = expon(scale=1).pdf(xs4)\n",
        "\n",
        "plt.figure(figsize=(12, 7))\n",
        "\n",
        "plt.subplot(2, 2, 1)\n",
        "plt.bar(xs1, randint_distrib, label=\"scipy.randint(0, 7 + 1)\")\n",
        "plt.ylabel(\"Probability\")\n",
        "plt.legend()\n",
        "plt.axis([-1, 8, 0, 0.2])\n",
        "\n",
        "plt.subplot(2, 2, 2)\n",
        "plt.fill_between(xs2, uniform_distrib, label=\"scipy.uniform(0, 7)\")\n",
        "plt.ylabel(\"PDF\")\n",
        "plt.legend()\n",
        "plt.axis([-1, 8, 0, 0.2])\n",
        "\n",
        "plt.subplot(2, 2, 3)\n",
        "plt.bar(xs3, geom_distrib, label=\"scipy.geom(0.5)\")\n",
        "plt.xlabel(\"Hyperparameter value\")\n",
        "plt.ylabel(\"Probability\")\n",
        "plt.legend()\n",
        "plt.axis([0, 7, 0, 1])\n",
        "\n",
        "plt.subplot(2, 2, 4)\n",
        "plt.fill_between(xs4, expon_distrib, label=\"scipy.expon(scale=1)\")\n",
        "plt.xlabel(\"Hyperparameter value\")\n",
        "plt.ylabel(\"PDF\")\n",
        "plt.legend()\n",
        "plt.axis([0, 7, 0, 1])\n",
        "\n",
        "plt.show()"
      ]
    },
    {
      "cell_type": "markdown",
      "metadata": {
        "id": "EaQC1W1mUjsX"
      },
      "source": [
        "Here are the PDF for `expon()` and `loguniform()` (left column), as well as the PDF of log(X) (right column). The right column shows the distribution of hyperparameter _scales_. You can see that `expon()` favors hyperparameters with roughly the desired scale, with a longer tail towards the smaller scales. But `loguniform()` does not favor any scale, they are all equally likely:"
      ]
    },
    {
      "cell_type": "code",
      "execution_count": null,
      "metadata": {
        "tags": [],
        "id": "qi656s84UjsX"
      },
      "outputs": [],
      "source": [
        "# extra code – shows the difference between expon and loguniform\n",
        "\n",
        "from scipy.stats import loguniform\n",
        "\n",
        "xs1 = np.linspace(0, 7, 500)\n",
        "expon_distrib = expon(scale=1).pdf(xs1)\n",
        "\n",
        "log_xs2 = np.linspace(-5, 3, 500)\n",
        "log_expon_distrib = np.exp(log_xs2 - np.exp(log_xs2))\n",
        "\n",
        "xs3 = np.linspace(0.001, 1000, 500)\n",
        "loguniform_distrib = loguniform(0.001, 1000).pdf(xs3)\n",
        "\n",
        "log_xs4 = np.linspace(np.log(0.001), np.log(1000), 500)\n",
        "log_loguniform_distrib = uniform(np.log(0.001), np.log(1000)).pdf(log_xs4)\n",
        "\n",
        "plt.figure(figsize=(12, 7))\n",
        "\n",
        "plt.subplot(2, 2, 1)\n",
        "plt.fill_between(xs1, expon_distrib,\n",
        "                 label=\"scipy.expon(scale=1)\")\n",
        "plt.ylabel(\"PDF\")\n",
        "plt.legend()\n",
        "plt.axis([0, 7, 0, 1])\n",
        "\n",
        "plt.subplot(2, 2, 2)\n",
        "plt.fill_between(log_xs2, log_expon_distrib,\n",
        "                 label=\"log(X) with X ~ expon\")\n",
        "plt.legend()\n",
        "plt.axis([-5, 3, 0, 1])\n",
        "\n",
        "plt.subplot(2, 2, 3)\n",
        "plt.fill_between(xs3, loguniform_distrib,\n",
        "                 label=\"scipy.loguniform(0.001, 1000)\")\n",
        "plt.xlabel(\"Hyperparameter value\")\n",
        "plt.ylabel(\"PDF\")\n",
        "plt.legend()\n",
        "plt.axis([0.001, 1000, 0, 0.005])\n",
        "\n",
        "plt.subplot(2, 2, 4)\n",
        "plt.fill_between(log_xs4, log_loguniform_distrib,\n",
        "                 label=\"log(X) with X ~ loguniform\")\n",
        "plt.xlabel(\"Log of hyperparameter value\")\n",
        "plt.legend()\n",
        "plt.axis([-8, 1, 0, 0.2])\n",
        "\n",
        "plt.show()"
      ]
    },
    {
      "cell_type": "markdown",
      "metadata": {
        "id": "1Ooc6SJ6UjsY"
      },
      "source": [
        "## Analyze the Best Models and Their Errors"
      ]
    },
    {
      "cell_type": "code",
      "execution_count": null,
      "metadata": {
        "id": "dr6WhkKzUjsY"
      },
      "outputs": [],
      "source": [
        "final_model = rnd_search.best_estimator_  # includes preprocessing\n",
        "feature_importances = final_model[\"random_forest\"].feature_importances_\n",
        "feature_importances.round(2)"
      ]
    },
    {
      "cell_type": "code",
      "execution_count": null,
      "metadata": {
        "id": "CzfZiUdGUjsY"
      },
      "outputs": [],
      "source": [
        "sorted(zip(feature_importances,\n",
        "           final_model[\"preprocessing\"].get_feature_names_out()),\n",
        "           reverse=True)"
      ]
    },
    {
      "cell_type": "markdown",
      "metadata": {
        "id": "1PwtnFY-UjsY"
      },
      "source": [
        "## Evaluate Your System on the Test Set"
      ]
    },
    {
      "cell_type": "code",
      "execution_count": null,
      "metadata": {
        "id": "2xAkA8QhUjsZ"
      },
      "outputs": [],
      "source": [
        "X_test = strat_test_set.drop(\"median_house_value\", axis=1)\n",
        "y_test = strat_test_set[\"median_house_value\"].copy()\n",
        "\n",
        "final_predictions = final_model.predict(X_test)\n",
        "\n",
        "final_rmse = root_mean_squared_error(y_test, final_predictions)\n",
        "print(final_rmse)"
      ]
    },
    {
      "cell_type": "markdown",
      "metadata": {
        "id": "o6LHnwvLUjsZ"
      },
      "source": [
        "We can compute a 95% confidence interval for the test RMSE:"
      ]
    },
    {
      "cell_type": "code",
      "execution_count": null,
      "metadata": {
        "id": "k6DlVSP5UjsZ"
      },
      "outputs": [],
      "source": [
        "from scipy import stats\n",
        "\n",
        "def rmse(squared_errors):\n",
        "    return np.sqrt(np.mean(squared_errors))\n",
        "\n",
        "confidence = 0.95\n",
        "squared_errors = (final_predictions - y_test) ** 2\n",
        "boot_result = stats.bootstrap([squared_errors], rmse,\n",
        "                              confidence_level=confidence, random_state=42)\n",
        "rmse_lower, rmse_upper = boot_result.confidence_interval\n"
      ]
    },
    {
      "cell_type": "code",
      "execution_count": null,
      "metadata": {
        "scrolled": true,
        "id": "P7Yio2H-Ujsa"
      },
      "outputs": [],
      "source": [
        "rmse_lower, rmse_upper"
      ]
    },
    {
      "cell_type": "markdown",
      "metadata": {
        "id": "0Q_Z5FGMUjsa"
      },
      "source": [
        "## Model persistence using joblib"
      ]
    },
    {
      "cell_type": "markdown",
      "metadata": {
        "id": "oLiCdanWUjsa"
      },
      "source": [
        "Save the final model:"
      ]
    },
    {
      "cell_type": "code",
      "execution_count": null,
      "metadata": {
        "id": "vzJwnrZOUjsa"
      },
      "outputs": [],
      "source": [
        "import joblib\n",
        "\n",
        "joblib.dump(final_model, \"my_california_housing_model.pkl\")"
      ]
    },
    {
      "cell_type": "markdown",
      "metadata": {
        "id": "VO3Lb91gUjsb"
      },
      "source": [
        "Now you can deploy this model to production. For example, the following code could be a script that would run in production:"
      ]
    },
    {
      "cell_type": "code",
      "execution_count": null,
      "metadata": {
        "id": "0g-HIHG-Ujsb"
      },
      "outputs": [],
      "source": [
        "import joblib\n",
        "\n",
        "# extra code – excluded for conciseness\n",
        "from sklearn.cluster import KMeans\n",
        "from sklearn.base import BaseEstimator, TransformerMixin\n",
        "from sklearn.metrics.pairwise import rbf_kernel\n",
        "\n",
        "def column_ratio(X):\n",
        "    return X[:, [0]] / X[:, [1]]\n",
        "\n",
        "#class ClusterSimilarity(BaseEstimator, TransformerMixin):\n",
        "#    [...]\n",
        "\n",
        "final_model_reloaded = joblib.load(\"my_california_housing_model.pkl\")\n",
        "\n",
        "new_data = housing.iloc[:5]  # pretend these are new districts\n",
        "predictions = final_model_reloaded.predict(new_data)"
      ]
    },
    {
      "cell_type": "code",
      "execution_count": null,
      "metadata": {
        "id": "rKdZthjUUjsb"
      },
      "outputs": [],
      "source": [
        "predictions"
      ]
    },
    {
      "cell_type": "markdown",
      "metadata": {
        "id": "89bR5Wt7Ujsc"
      },
      "source": [
        "You could use pickle instead, but joblib is more efficient."
      ]
    },
    {
      "cell_type": "markdown",
      "metadata": {
        "id": "DpNYVlD2Ujsc"
      },
      "source": [
        "# Exercise solutions"
      ]
    },
    {
      "cell_type": "markdown",
      "metadata": {
        "id": "wj3NFD0bUjsc"
      },
      "source": [
        "## 1."
      ]
    },
    {
      "cell_type": "markdown",
      "metadata": {
        "id": "1Ise7yK2Ujsc"
      },
      "source": [
        "Exercise: _Try a Support Vector Machine regressor (`sklearn.svm.SVR`) with various hyperparameters, such as `kernel=\"linear\"` (with various values for the `C` hyperparameter) or `kernel=\"rbf\"` (with various values for the `C` and `gamma` hyperparameters). Note that SVMs don't scale well to large datasets, so you should probably train your model on just the first 5,000 instances of the training set and use only 3-fold cross-validation, or else it will take hours. Don't worry about what the hyperparameters mean for now (see the SVM notebook if you're interested). How does the best `SVR` predictor perform?_"
      ]
    },
    {
      "cell_type": "code",
      "execution_count": null,
      "metadata": {
        "id": "1sKH1pCnUjsd"
      },
      "outputs": [],
      "source": [
        "from sklearn.model_selection import GridSearchCV\n",
        "from sklearn.svm import SVR\n",
        "\n",
        "param_grid = [\n",
        "        {'svr__kernel': ['linear'], 'svr__C': [10., 30., 100., 300., 1000.,\n",
        "                                               3000., 10000., 30000.0]},\n",
        "        {'svr__kernel': ['rbf'], 'svr__C': [1.0, 3.0, 10., 30., 100., 300.,\n",
        "                                            1000.0],\n",
        "         'svr__gamma': [0.01, 0.03, 0.1, 0.3, 1.0, 3.0]},\n",
        "    ]\n",
        "\n",
        "svr_pipeline = Pipeline([(\"preprocessing\", preprocessing), (\"svr\", SVR())])\n",
        "grid_search = GridSearchCV(svr_pipeline, param_grid, cv=3,\n",
        "                           scoring='neg_root_mean_squared_error')\n",
        "grid_search.fit(housing.iloc[:5000], housing_labels.iloc[:5000])"
      ]
    },
    {
      "cell_type": "markdown",
      "metadata": {
        "id": "ajGAGpenUjsd"
      },
      "source": [
        "The best model achieves the following score (evaluated using 3-fold cross validation):"
      ]
    },
    {
      "cell_type": "code",
      "execution_count": null,
      "metadata": {
        "id": "vCMzssiYUjsd"
      },
      "outputs": [],
      "source": [
        "svr_grid_search_rmse = -grid_search.best_score_\n",
        "svr_grid_search_rmse"
      ]
    },
    {
      "cell_type": "markdown",
      "metadata": {
        "id": "VRD5_Ep0Ujsd"
      },
      "source": [
        "That's much worse than the `RandomForestRegressor` (but to be fair, we trained the model on much less data). Let's check the best hyperparameters found:"
      ]
    },
    {
      "cell_type": "code",
      "execution_count": null,
      "metadata": {
        "id": "9P9GLvzdUjse"
      },
      "outputs": [],
      "source": [
        "grid_search.best_params_"
      ]
    },
    {
      "cell_type": "markdown",
      "metadata": {
        "id": "0kb_UpiUUjse"
      },
      "source": [
        "The linear kernel seems better than the RBF kernel. Notice that the value of `C` is the maximum tested value. When this happens you definitely want to launch the grid search again with higher values for `C` (removing the smallest values), because it is likely that higher values of `C` will be better."
      ]
    },
    {
      "cell_type": "markdown",
      "metadata": {
        "id": "FtXTYQWIUjse"
      },
      "source": [
        "## 2."
      ]
    },
    {
      "cell_type": "markdown",
      "metadata": {
        "id": "VwUmOSeEUjse"
      },
      "source": [
        "Exercise: _Try replacing the `GridSearchCV` with a `RandomizedSearchCV`._"
      ]
    },
    {
      "cell_type": "markdown",
      "metadata": {
        "id": "8aZdgKNFUjse"
      },
      "source": [
        "**Warning:** the following cell will take several minutes to run. You can specify `verbose=2` when creating the `RandomizedSearchCV` if you want to see the training details."
      ]
    },
    {
      "cell_type": "code",
      "execution_count": null,
      "metadata": {
        "id": "KUHYH-qzUjse"
      },
      "outputs": [],
      "source": [
        "from sklearn.model_selection import RandomizedSearchCV\n",
        "from scipy.stats import expon, loguniform\n",
        "\n",
        "# see https://docs.scipy.org/doc/scipy/reference/stats.html\n",
        "# for `expon()` and `loguniform()` documentation and more probability distribution functions.\n",
        "\n",
        "# Note: gamma is ignored when kernel is \"linear\"\n",
        "param_distribs = {\n",
        "        'svr__kernel': ['linear', 'rbf'],\n",
        "        'svr__C': loguniform(20, 200_000),\n",
        "        'svr__gamma': expon(scale=1.0),\n",
        "    }\n",
        "\n",
        "rnd_search = RandomizedSearchCV(svr_pipeline,\n",
        "                                param_distributions=param_distribs,\n",
        "                                n_iter=50, cv=3,\n",
        "                                scoring='neg_root_mean_squared_error',\n",
        "                                random_state=42)\n",
        "rnd_search.fit(housing.iloc[:5000], housing_labels.iloc[:5000])"
      ]
    },
    {
      "cell_type": "markdown",
      "metadata": {
        "id": "13F0Lwn2Ujsf"
      },
      "source": [
        "The best model achieves the following score (evaluated using 3-fold cross validation):"
      ]
    },
    {
      "cell_type": "code",
      "execution_count": null,
      "metadata": {
        "id": "fZOHMTMYUjsf"
      },
      "outputs": [],
      "source": [
        "svr_rnd_search_rmse = -rnd_search.best_score_\n",
        "svr_rnd_search_rmse"
      ]
    },
    {
      "cell_type": "markdown",
      "metadata": {
        "id": "8hXVTJr3Ujsf"
      },
      "source": [
        "Now that's really much better, but still far from the `RandomForestRegressor`'s performance. Let's check the best hyperparameters found:"
      ]
    },
    {
      "cell_type": "code",
      "execution_count": null,
      "metadata": {
        "id": "qQxhry77Ujsf"
      },
      "outputs": [],
      "source": [
        "rnd_search.best_params_"
      ]
    },
    {
      "cell_type": "markdown",
      "metadata": {
        "id": "S1wf25EGUjsg"
      },
      "source": [
        "This time the search found a good set of hyperparameters for the RBF kernel. Randomized search tends to find better hyperparameters than grid search in the same amount of time."
      ]
    },
    {
      "cell_type": "markdown",
      "metadata": {
        "id": "m9RQULAsUjsg"
      },
      "source": [
        "Note that we used the `expon()` distribution for `gamma`, with a scale of 1, so `RandomSearch` mostly searched for values roughly of that scale: about 80% of the samples were between 0.1 and 2.3 (roughly 10% were smaller and 10% were larger):"
      ]
    },
    {
      "cell_type": "code",
      "execution_count": null,
      "metadata": {
        "id": "QdDszqw5Ujsg"
      },
      "outputs": [],
      "source": [
        "np.random.seed(42)\n",
        "\n",
        "s = expon(scale=1).rvs(100_000)  # get 100,000 samples\n",
        "((s > 0.105) & (s < 2.29)).sum() / 100_000"
      ]
    },
    {
      "cell_type": "markdown",
      "metadata": {
        "id": "mbuwAabIUjsg"
      },
      "source": [
        "We used the `loguniform()` distribution for `C`, meaning we did not have a clue what the optimal scale of `C` was before running the random search. It explored the range from 20 to 200 just as much as the range from 2,000 to 20,000 or from 20,000 to 200,000."
      ]
    },
    {
      "cell_type": "markdown",
      "metadata": {
        "id": "OcG266tQUjsh"
      },
      "source": [
        "## 3."
      ]
    },
    {
      "cell_type": "markdown",
      "metadata": {
        "id": "I2UxQn-aUjsh"
      },
      "source": [
        "Exercise: _Try adding a `SelectFromModel` transformer in the preparation pipeline to select only the most important attributes._"
      ]
    },
    {
      "cell_type": "markdown",
      "metadata": {
        "id": "qBYCj7jTUjsh"
      },
      "source": [
        "Let's create a new pipeline that runs the previously defined preparation pipeline, and adds a `SelectFromModel` transformer based on a `RandomForestRegressor` before the final regressor:"
      ]
    },
    {
      "cell_type": "code",
      "execution_count": null,
      "metadata": {
        "id": "5cB8ZnuXUjsh"
      },
      "outputs": [],
      "source": [
        "from sklearn.feature_selection import SelectFromModel\n",
        "\n",
        "selector_pipeline = Pipeline([\n",
        "    ('preprocessing', preprocessing),\n",
        "    ('selector', SelectFromModel(RandomForestRegressor(random_state=42),\n",
        "                                 threshold=0.005)),  # min feature importance\n",
        "    ('svr', SVR(C=rnd_search.best_params_[\"svr__C\"],\n",
        "                gamma=rnd_search.best_params_[\"svr__gamma\"],\n",
        "                kernel=rnd_search.best_params_[\"svr__kernel\"])),\n",
        "])"
      ]
    },
    {
      "cell_type": "code",
      "execution_count": null,
      "metadata": {
        "id": "SlZqiEJJUjsh"
      },
      "outputs": [],
      "source": [
        "selector_rmses = -cross_val_score(selector_pipeline,\n",
        "                                  housing.iloc[:5000],\n",
        "                                  housing_labels.iloc[:5000],\n",
        "                                  scoring=\"neg_root_mean_squared_error\",\n",
        "                                  cv=3)\n",
        "pd.Series(selector_rmses).describe()"
      ]
    },
    {
      "cell_type": "markdown",
      "metadata": {
        "id": "xcbCaDFKUjsi"
      },
      "source": [
        "Oh well, feature selection does not seem to help. But maybe that's just because the threshold we used was not optimal. Perhaps try tuning it using random search or grid search?"
      ]
    },
    {
      "cell_type": "markdown",
      "metadata": {
        "id": "Fghayh7xUjsi"
      },
      "source": [
        "## 4."
      ]
    },
    {
      "cell_type": "markdown",
      "metadata": {
        "id": "J2oZYUYoUjsi"
      },
      "source": [
        "Exercise: _Try creating a custom transformer that trains a k-Nearest Neighbors regressor (`sklearn.neighbors.KNeighborsRegressor`) in its `fit()` method, and outputs the model's predictions in its `transform()` method. Then add this feature to the preprocessing pipeline, using latitude and longitude as the inputs to this transformer. This will add a feature in the model that corresponds to the housing median price of the nearest districts._"
      ]
    },
    {
      "cell_type": "markdown",
      "metadata": {
        "id": "FBfCjbowUjsi"
      },
      "source": [
        "Rather than restrict ourselves to k-Nearest Neighbors regressors, let's create a transformer that accepts any regressor. For this, we can extend the `MetaEstimatorMixin` and have a required `estimator` argument in the constructor. The `fit()` method must work on a clone of this estimator, and it must also save `feature_names_in_`. The `MetaEstimatorMixin` will ensure that `estimator` is listed as a required parameters, and it will update `get_params()` and `set_params()` to make the estimator's hyperparameters available for tuning. Lastly, we create a `get_feature_names_out()` method: the output column name is the ..."
      ]
    },
    {
      "cell_type": "code",
      "execution_count": null,
      "metadata": {
        "id": "o2SdT-p6Ujsj"
      },
      "outputs": [],
      "source": [
        "from sklearn.neighbors import KNeighborsRegressor\n",
        "from sklearn.base import MetaEstimatorMixin, clone\n",
        "from sklearn.utils.validation import check_array\n",
        "\n",
        "class FeatureFromRegressor(MetaEstimatorMixin, TransformerMixin, BaseEstimator):\n",
        "    def __init__(self, estimator):\n",
        "        self.estimator = estimator\n",
        "\n",
        "    def fit(self, X, y=None):\n",
        "        check_array(X)\n",
        "        self.estimator_ = clone(self.estimator)\n",
        "        self.estimator_.fit(X, y)\n",
        "        self.n_features_in_ = self.estimator_.n_features_in_\n",
        "        if hasattr(self.estimator_, \"feature_names_in_\"):\n",
        "            self.feature_names_in_ = self.estimator_.feature_names_in_\n",
        "        return self  # always return self!\n",
        "\n",
        "    def transform(self, X):\n",
        "        check_is_fitted(self)\n",
        "        predictions = self.estimator_.predict(X)\n",
        "        if predictions.ndim == 1:\n",
        "            predictions = predictions.reshape(-1, 1)\n",
        "        return predictions\n",
        "\n",
        "    def get_feature_names_out(self, names=None):\n",
        "        check_is_fitted(self)\n",
        "        n_outputs = getattr(self.estimator_, \"n_outputs_\", 1)\n",
        "        estimator_class_name = self.estimator_.__class__.__name__\n",
        "        estimator_short_name = estimator_class_name.lower().replace(\"_\", \"\")\n",
        "        return [f\"{estimator_short_name}_prediction_{i}\"\n",
        "                for i in range(n_outputs)]"
      ]
    },
    {
      "cell_type": "markdown",
      "metadata": {
        "id": "4d1k4WpAUjsj"
      },
      "source": [
        "Let's ensure it complies to Scikit-Learn's API:"
      ]
    },
    {
      "cell_type": "code",
      "execution_count": null,
      "metadata": {
        "id": "YeHrzUfhUjsj"
      },
      "outputs": [],
      "source": [
        "from sklearn.utils.estimator_checks import check_estimator\n",
        "\n",
        "test_results = check_estimator(FeatureFromRegressor(KNeighborsRegressor()))"
      ]
    },
    {
      "cell_type": "markdown",
      "metadata": {
        "id": "RkLiQr2eUjsk"
      },
      "source": [
        "Good! Now let's test it:"
      ]
    },
    {
      "cell_type": "code",
      "execution_count": null,
      "metadata": {
        "id": "kU7X9OgNUjsk"
      },
      "outputs": [],
      "source": [
        "knn_reg = KNeighborsRegressor(n_neighbors=3, weights=\"distance\")\n",
        "knn_transformer = FeatureFromRegressor(knn_reg)\n",
        "geo_features = housing[[\"latitude\", \"longitude\"]]\n",
        "knn_transformer.fit_transform(geo_features, housing_labels)"
      ]
    },
    {
      "cell_type": "markdown",
      "metadata": {
        "id": "Z_P9ku1OUjsk"
      },
      "source": [
        "And what does its output feature name look like?"
      ]
    },
    {
      "cell_type": "code",
      "execution_count": null,
      "metadata": {
        "id": "6on3MvCTUjsk"
      },
      "outputs": [],
      "source": [
        "knn_transformer.get_feature_names_out()"
      ]
    },
    {
      "cell_type": "markdown",
      "metadata": {
        "id": "81Ia-lKWUjsl"
      },
      "source": [
        "Okay, now let's include this transformer in our preprocessing pipeline:"
      ]
    },
    {
      "cell_type": "code",
      "execution_count": null,
      "metadata": {
        "id": "KStAYOwyUjsl"
      },
      "outputs": [],
      "source": [
        "from sklearn.base import clone\n",
        "\n",
        "transformers = [(name, clone(transformer), columns)\n",
        "                for name, transformer, columns in preprocessing.transformers]\n",
        "geo_index = [name for name, _, _ in transformers].index(\"geo\")\n",
        "transformers[geo_index] = (\"geo\", knn_transformer, [\"latitude\", \"longitude\"])\n",
        "\n",
        "new_geo_preprocessing = ColumnTransformer(transformers)"
      ]
    },
    {
      "cell_type": "code",
      "execution_count": null,
      "metadata": {
        "id": "Bh53KZBAUjsl"
      },
      "outputs": [],
      "source": [
        "new_geo_pipeline = Pipeline([\n",
        "    ('preprocessing', new_geo_preprocessing),\n",
        "    ('svr', SVR(C=rnd_search.best_params_[\"svr__C\"],\n",
        "                gamma=rnd_search.best_params_[\"svr__gamma\"],\n",
        "                kernel=rnd_search.best_params_[\"svr__kernel\"])),\n",
        "])"
      ]
    },
    {
      "cell_type": "code",
      "execution_count": null,
      "metadata": {
        "id": "VBVWDwg5Ujsm"
      },
      "outputs": [],
      "source": [
        "new_pipe_rmses = -cross_val_score(new_geo_pipeline,\n",
        "                                  housing.iloc[:5000],\n",
        "                                  housing_labels.iloc[:5000],\n",
        "                                  scoring=\"neg_root_mean_squared_error\",\n",
        "                                  cv=3)\n",
        "pd.Series(new_pipe_rmses).describe()"
      ]
    },
    {
      "cell_type": "markdown",
      "metadata": {
        "id": "8HyaBHjOUjsm"
      },
      "source": [
        "Yikes, that's terrible! Apparently the cluster similarity features were much better. But perhaps we should tune the `KNeighborsRegressor`'s hyperparameters? That's what the next exercise is about."
      ]
    },
    {
      "cell_type": "markdown",
      "metadata": {
        "id": "FLJP7x1oUjsm"
      },
      "source": [
        "## 5."
      ]
    },
    {
      "cell_type": "markdown",
      "metadata": {
        "id": "F9T0Pv1sUjsn"
      },
      "source": [
        "Exercise: _Automatically explore some preparation options using `RandomSearchCV`._"
      ]
    },
    {
      "cell_type": "code",
      "execution_count": null,
      "metadata": {
        "id": "zWH1DsdVUjsn"
      },
      "outputs": [],
      "source": [
        "param_distribs = {\n",
        "    \"preprocessing__geo__estimator__n_neighbors\": range(1, 30),\n",
        "    \"preprocessing__geo__estimator__weights\": [\"distance\", \"uniform\"],\n",
        "    \"svr__C\": loguniform(20, 200_000),\n",
        "    \"svr__gamma\": expon(scale=1.0),\n",
        "}\n",
        "\n",
        "new_geo_rnd_search = RandomizedSearchCV(new_geo_pipeline,\n",
        "                                        param_distributions=param_distribs,\n",
        "                                        n_iter=50,\n",
        "                                        cv=3,\n",
        "                                        scoring='neg_root_mean_squared_error',\n",
        "                                        random_state=42)\n",
        "new_geo_rnd_search.fit(housing.iloc[:5000], housing_labels.iloc[:5000])"
      ]
    },
    {
      "cell_type": "code",
      "execution_count": null,
      "metadata": {
        "id": "VkYt9onyUjsn"
      },
      "outputs": [],
      "source": [
        "new_geo_rnd_search_rmse = -new_geo_rnd_search.best_score_\n",
        "new_geo_rnd_search_rmse"
      ]
    },
    {
      "cell_type": "markdown",
      "metadata": {
        "id": "myxuE_puUjsn"
      },
      "source": [
        "Oh well... at least we tried! It looks like the cluster similarity features are definitely better than the KNN feature. But perhaps you could try having both? And maybe training on the full training set would help as well."
      ]
    },
    {
      "cell_type": "markdown",
      "metadata": {
        "id": "LrYuPiNGUjso"
      },
      "source": [
        "## 6."
      ]
    },
    {
      "cell_type": "markdown",
      "metadata": {
        "id": "85KKS0V6Ujso"
      },
      "source": [
        "Exercise: _Try to implement the `StandardScalerClone` class again from scratch, then add support for the `inverse_transform()` method: executing `scaler.inverse_transform(scaler.fit_transform(X))` should return an array very close to `X`. Then add support for feature names: set `feature_names_in_` in the `fit()` method if the input is a DataFrame. This attribute should be a NumPy array of column names. Lastly, implement the `get_feature_names_out()` method: it should have one optional `input_features=None` argument. If passed, the method should check that its length matches `n_features_in_`, and it should match `feature_names_in_` if it is defined, then `input_features` should be returned. If `input_features` is `None`, then the method should return `feature_names_in_` if it is defined or `np.array([\"x0\", \"x1\", ...])` with length `n_features_in_` otherwise._"
      ]
    },
    {
      "cell_type": "code",
      "execution_count": null,
      "metadata": {
        "id": "ojo0kpGhUjso"
      },
      "outputs": [],
      "source": [
        "import numpy as np\n",
        "from sklearn.base import BaseEstimator, TransformerMixin\n",
        "from sklearn.utils.validation import check_is_fitted, validate_data\n",
        "\n",
        "class StandardScalerClone(TransformerMixin, BaseEstimator):\n",
        "    def __init__(self, with_mean=True):  # no *args or **kwargs!\n",
        "        self.with_mean = with_mean\n",
        "\n",
        "    def fit(self, X, y=None):\n",
        "        X = validate_data(self, X, ensure_2d=True)\n",
        "        self.n_features_in_ = X.shape[1]\n",
        "        if self.with_mean:\n",
        "            self.mean_ = np.mean(X, axis=0)\n",
        "        self.scale_ = np.std(X, axis=0, ddof=0)\n",
        "        self.scale_[self.scale_ == 0] = 1  # Avoid division by zero\n",
        "        return self\n",
        "\n",
        "    def transform(self, X):\n",
        "        check_is_fitted(self)\n",
        "        X = validate_data(self, X, ensure_2d=True, reset=False)\n",
        "        if self.with_mean:\n",
        "            X = X - self.mean_\n",
        "        return X / self.scale_\n",
        "\n",
        "    def inverse_transform(self, X):\n",
        "        check_is_fitted(self)\n",
        "        X = validate_data(self, X, ensure_2d=True, reset=False)\n",
        "        return X * self.scale_ + self.mean_\n",
        "\n",
        "    def get_feature_names_out(self, input_features=None):\n",
        "        if input_features is None:\n",
        "            return getattr(self, \"feature_names_in_\",\n",
        "                           [f\"x{i}\" for i in range(self.n_features_in_)])\n",
        "        else:\n",
        "            if len(input_features) != self.n_features_in_:\n",
        "                raise ValueError(\"Invalid number of features\")\n",
        "            if hasattr(self, \"feature_names_in_\") and not np.all(\n",
        "                self.feature_names_in_ == input_features\n",
        "            ):\n",
        "                raise ValueError(\"input_features ≠ feature_names_in_\")\n",
        "            return input_features"
      ]
    },
    {
      "cell_type": "markdown",
      "metadata": {
        "id": "_wCAkOQUUjso"
      },
      "source": [
        "Let's test our custom transformer:"
      ]
    },
    {
      "cell_type": "code",
      "execution_count": null,
      "metadata": {
        "id": "XLciHDudUjsp"
      },
      "outputs": [],
      "source": [
        "from sklearn.utils.estimator_checks import check_estimator\n",
        "\n",
        "check_estimator(StandardScalerClone())"
      ]
    },
    {
      "cell_type": "markdown",
      "metadata": {
        "id": "6LuopUHSUjsp"
      },
      "source": [
        "No errors, that's a great start, we respect the Scikit-Learn API."
      ]
    },
    {
      "cell_type": "markdown",
      "metadata": {
        "id": "6vWlnERvUjsp"
      },
      "source": [
        "Now let's ensure the transformation works as expected:"
      ]
    },
    {
      "cell_type": "code",
      "execution_count": null,
      "metadata": {
        "id": "gq9yvvY7Ujsp"
      },
      "outputs": [],
      "source": [
        "np.random.seed(42)\n",
        "X = np.random.rand(1000, 3)\n",
        "\n",
        "scaler = StandardScalerClone()\n",
        "X_scaled = scaler.fit_transform(X)\n",
        "\n",
        "assert np.allclose(X_scaled, (X - X.mean(axis=0)) / X.std(axis=0))"
      ]
    },
    {
      "cell_type": "markdown",
      "metadata": {
        "id": "QpI5zEetUjsp"
      },
      "source": [
        "How about setting `with_mean=False`?"
      ]
    },
    {
      "cell_type": "code",
      "execution_count": null,
      "metadata": {
        "id": "T5hxHsS6Ujsp"
      },
      "outputs": [],
      "source": [
        "scaler = StandardScalerClone(with_mean=False)\n",
        "X_scaled_uncentered = scaler.fit_transform(X)\n",
        "\n",
        "assert np.allclose(X_scaled_uncentered, X / X.std(axis=0))"
      ]
    },
    {
      "cell_type": "markdown",
      "metadata": {
        "id": "hfgzbwYaUjsq"
      },
      "source": [
        "And does the inverse work?"
      ]
    },
    {
      "cell_type": "code",
      "execution_count": null,
      "metadata": {
        "id": "slHwcpJtUjsq"
      },
      "outputs": [],
      "source": [
        "scaler = StandardScalerClone()\n",
        "X_back = scaler.inverse_transform(scaler.fit_transform(X))\n",
        "\n",
        "assert np.allclose(X, X_back)"
      ]
    },
    {
      "cell_type": "markdown",
      "metadata": {
        "id": "qXlV9NdcUjsq"
      },
      "source": [
        "How about the feature names out?"
      ]
    },
    {
      "cell_type": "code",
      "execution_count": null,
      "metadata": {
        "id": "8FabCRInUjsq"
      },
      "outputs": [],
      "source": [
        "assert np.all(scaler.get_feature_names_out() == [\"x0\", \"x1\", \"x2\"])\n",
        "assert np.all(scaler.get_feature_names_out([\"a\", \"b\", \"c\"]) == [\"a\", \"b\", \"c\"])"
      ]
    },
    {
      "cell_type": "markdown",
      "metadata": {
        "id": "cqaB-vf_Ujsr"
      },
      "source": [
        "And if we fit a DataFrame, are the feature in and out ok?"
      ]
    },
    {
      "cell_type": "code",
      "execution_count": null,
      "metadata": {
        "id": "1AxCsIcmUjsr"
      },
      "outputs": [],
      "source": [
        "df = pd.DataFrame({\"a\": np.random.rand(100), \"b\": np.random.rand(100)})\n",
        "scaler = StandardScalerClone()\n",
        "X_scaled = scaler.fit_transform(df)\n",
        "\n",
        "assert np.all(scaler.feature_names_in_ == [\"a\", \"b\"])\n",
        "assert np.all(scaler.get_feature_names_out() == [\"a\", \"b\"])"
      ]
    },
    {
      "cell_type": "markdown",
      "metadata": {
        "id": "fPMo0ueEUjsr"
      },
      "source": [
        "All good! That's all for today! 😀"
      ]
    },
    {
      "cell_type": "markdown",
      "metadata": {
        "id": "w8ZSpV5JUjsr"
      },
      "source": [
        "Congratulations! You already know quite a lot about Machine Learning. :)"
      ]
    }
  ],
  "metadata": {
    "kernelspec": {
      "display_name": "Python 3",
      "language": "python",
      "name": "python3"
    },
    "language_info": {
      "codemirror_mode": {
        "name": "ipython",
        "version": 3
      },
      "file_extension": ".py",
      "mimetype": "text/x-python",
      "name": "python",
      "nbconvert_exporter": "python",
      "pygments_lexer": "ipython3",
      "version": "3.9.10"
    },
    "nav_menu": {
      "height": "279px",
      "width": "309px"
    },
    "toc": {
      "nav_menu": {},
      "number_sections": true,
      "sideBar": true,
      "skip_h1_title": false,
      "toc_cell": false,
      "toc_position": {},
      "toc_section_display": "block",
      "toc_window_display": false
    },
    "colab": {
      "provenance": [],
      "include_colab_link": true
    }
  },
  "nbformat": 4,
  "nbformat_minor": 0
}